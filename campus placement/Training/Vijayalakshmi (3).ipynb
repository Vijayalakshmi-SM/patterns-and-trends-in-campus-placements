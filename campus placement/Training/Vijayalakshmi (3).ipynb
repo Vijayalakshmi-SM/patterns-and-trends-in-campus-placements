{
  "cells": [
    {
      "cell_type": "code",
      "execution_count": 2,
      "metadata": {
        "id": "cmIRlykXmZiB"
      },
      "outputs": [],
      "source": [
        "from sklearn import metrics\n",
        "import numpy as np\n",
        "import pandas as pd\n",
        "import os\n",
        "import seaborn as sns\n",
        "import matplotlib.pyplot as plt\n",
        "from sklearn import svm\n",
        "import sklearn.metrics as metrics \n",
        "from sklearn.neighbors import KNeighborsClassifier\n",
        "from sklearn.model_selection import cross_val_score\n",
        "from sklearn import preprocessing\n",
        "from sklearn.model_selection import train_test_split\n",
        "from sklearn.preprocessing import StandardScaler\n",
        "import joblib\n",
        "from sklearn.metrics import accuracy_score\n",
        "import warnings\n",
        "warnings.filterwarnings('ignore')"
      ]
    },
    {
      "cell_type": "code",
      "execution_count": 3,
      "metadata": {
        "colab": {
          "base_uri": "https://localhost:8080/",
          "height": 206
        },
        "id": "XtnfYZkYFpEG",
        "outputId": "5af2cf58-fe07-4ea9-da67-7c694fa38a81"
      },
      "outputs": [
        {
          "output_type": "execute_result",
          "data": {
            "text/plain": [
              "   Age  Gender                         Stream  Internships  CGPA  Hostel  \\\n",
              "0   22    Male  Electronics And Communication            1     8       1   \n",
              "1   21  Female               Computer Science            0     7       1   \n",
              "2   22  Female         Information Technology            1     6       0   \n",
              "3   21    Male         Information Technology            0     8       0   \n",
              "4   22    Male                     Mechanical            0     8       1   \n",
              "\n",
              "   HistoryOfBacklogs  PlacedOrNot  \n",
              "0                  1            1  \n",
              "1                  1            1  \n",
              "2                  0            1  \n",
              "3                  1            1  \n",
              "4                  0            1  "
            ],
            "text/html": [
              "\n",
              "  <div id=\"df-1596b0ee-0a1b-491a-a3ca-b1d1ccd7fa05\">\n",
              "    <div class=\"colab-df-container\">\n",
              "      <div>\n",
              "<style scoped>\n",
              "    .dataframe tbody tr th:only-of-type {\n",
              "        vertical-align: middle;\n",
              "    }\n",
              "\n",
              "    .dataframe tbody tr th {\n",
              "        vertical-align: top;\n",
              "    }\n",
              "\n",
              "    .dataframe thead th {\n",
              "        text-align: right;\n",
              "    }\n",
              "</style>\n",
              "<table border=\"1\" class=\"dataframe\">\n",
              "  <thead>\n",
              "    <tr style=\"text-align: right;\">\n",
              "      <th></th>\n",
              "      <th>Age</th>\n",
              "      <th>Gender</th>\n",
              "      <th>Stream</th>\n",
              "      <th>Internships</th>\n",
              "      <th>CGPA</th>\n",
              "      <th>Hostel</th>\n",
              "      <th>HistoryOfBacklogs</th>\n",
              "      <th>PlacedOrNot</th>\n",
              "    </tr>\n",
              "  </thead>\n",
              "  <tbody>\n",
              "    <tr>\n",
              "      <th>0</th>\n",
              "      <td>22</td>\n",
              "      <td>Male</td>\n",
              "      <td>Electronics And Communication</td>\n",
              "      <td>1</td>\n",
              "      <td>8</td>\n",
              "      <td>1</td>\n",
              "      <td>1</td>\n",
              "      <td>1</td>\n",
              "    </tr>\n",
              "    <tr>\n",
              "      <th>1</th>\n",
              "      <td>21</td>\n",
              "      <td>Female</td>\n",
              "      <td>Computer Science</td>\n",
              "      <td>0</td>\n",
              "      <td>7</td>\n",
              "      <td>1</td>\n",
              "      <td>1</td>\n",
              "      <td>1</td>\n",
              "    </tr>\n",
              "    <tr>\n",
              "      <th>2</th>\n",
              "      <td>22</td>\n",
              "      <td>Female</td>\n",
              "      <td>Information Technology</td>\n",
              "      <td>1</td>\n",
              "      <td>6</td>\n",
              "      <td>0</td>\n",
              "      <td>0</td>\n",
              "      <td>1</td>\n",
              "    </tr>\n",
              "    <tr>\n",
              "      <th>3</th>\n",
              "      <td>21</td>\n",
              "      <td>Male</td>\n",
              "      <td>Information Technology</td>\n",
              "      <td>0</td>\n",
              "      <td>8</td>\n",
              "      <td>0</td>\n",
              "      <td>1</td>\n",
              "      <td>1</td>\n",
              "    </tr>\n",
              "    <tr>\n",
              "      <th>4</th>\n",
              "      <td>22</td>\n",
              "      <td>Male</td>\n",
              "      <td>Mechanical</td>\n",
              "      <td>0</td>\n",
              "      <td>8</td>\n",
              "      <td>1</td>\n",
              "      <td>0</td>\n",
              "      <td>1</td>\n",
              "    </tr>\n",
              "  </tbody>\n",
              "</table>\n",
              "</div>\n",
              "      <button class=\"colab-df-convert\" onclick=\"convertToInteractive('df-1596b0ee-0a1b-491a-a3ca-b1d1ccd7fa05')\"\n",
              "              title=\"Convert this dataframe to an interactive table.\"\n",
              "              style=\"display:none;\">\n",
              "        \n",
              "  <svg xmlns=\"http://www.w3.org/2000/svg\" height=\"24px\"viewBox=\"0 0 24 24\"\n",
              "       width=\"24px\">\n",
              "    <path d=\"M0 0h24v24H0V0z\" fill=\"none\"/>\n",
              "    <path d=\"M18.56 5.44l.94 2.06.94-2.06 2.06-.94-2.06-.94-.94-2.06-.94 2.06-2.06.94zm-11 1L8.5 8.5l.94-2.06 2.06-.94-2.06-.94L8.5 2.5l-.94 2.06-2.06.94zm10 10l.94 2.06.94-2.06 2.06-.94-2.06-.94-.94-2.06-.94 2.06-2.06.94z\"/><path d=\"M17.41 7.96l-1.37-1.37c-.4-.4-.92-.59-1.43-.59-.52 0-1.04.2-1.43.59L10.3 9.45l-7.72 7.72c-.78.78-.78 2.05 0 2.83L4 21.41c.39.39.9.59 1.41.59.51 0 1.02-.2 1.41-.59l7.78-7.78 2.81-2.81c.8-.78.8-2.07 0-2.86zM5.41 20L4 18.59l7.72-7.72 1.47 1.35L5.41 20z\"/>\n",
              "  </svg>\n",
              "      </button>\n",
              "      \n",
              "  <style>\n",
              "    .colab-df-container {\n",
              "      display:flex;\n",
              "      flex-wrap:wrap;\n",
              "      gap: 12px;\n",
              "    }\n",
              "\n",
              "    .colab-df-convert {\n",
              "      background-color: #E8F0FE;\n",
              "      border: none;\n",
              "      border-radius: 50%;\n",
              "      cursor: pointer;\n",
              "      display: none;\n",
              "      fill: #1967D2;\n",
              "      height: 32px;\n",
              "      padding: 0 0 0 0;\n",
              "      width: 32px;\n",
              "    }\n",
              "\n",
              "    .colab-df-convert:hover {\n",
              "      background-color: #E2EBFA;\n",
              "      box-shadow: 0px 1px 2px rgba(60, 64, 67, 0.3), 0px 1px 3px 1px rgba(60, 64, 67, 0.15);\n",
              "      fill: #174EA6;\n",
              "    }\n",
              "\n",
              "    [theme=dark] .colab-df-convert {\n",
              "      background-color: #3B4455;\n",
              "      fill: #D2E3FC;\n",
              "    }\n",
              "\n",
              "    [theme=dark] .colab-df-convert:hover {\n",
              "      background-color: #434B5C;\n",
              "      box-shadow: 0px 1px 3px 1px rgba(0, 0, 0, 0.15);\n",
              "      filter: drop-shadow(0px 1px 2px rgba(0, 0, 0, 0.3));\n",
              "      fill: #FFFFFF;\n",
              "    }\n",
              "  </style>\n",
              "\n",
              "      <script>\n",
              "        const buttonEl =\n",
              "          document.querySelector('#df-1596b0ee-0a1b-491a-a3ca-b1d1ccd7fa05 button.colab-df-convert');\n",
              "        buttonEl.style.display =\n",
              "          google.colab.kernel.accessAllowed ? 'block' : 'none';\n",
              "\n",
              "        async function convertToInteractive(key) {\n",
              "          const element = document.querySelector('#df-1596b0ee-0a1b-491a-a3ca-b1d1ccd7fa05');\n",
              "          const dataTable =\n",
              "            await google.colab.kernel.invokeFunction('convertToInteractive',\n",
              "                                                     [key], {});\n",
              "          if (!dataTable) return;\n",
              "\n",
              "          const docLinkHtml = 'Like what you see? Visit the ' +\n",
              "            '<a target=\"_blank\" href=https://colab.research.google.com/notebooks/data_table.ipynb>data table notebook</a>'\n",
              "            + ' to learn more about interactive tables.';\n",
              "          element.innerHTML = '';\n",
              "          dataTable['output_type'] = 'display_data';\n",
              "          await google.colab.output.renderOutput(dataTable, element);\n",
              "          const docLink = document.createElement('div');\n",
              "          docLink.innerHTML = docLinkHtml;\n",
              "          element.appendChild(docLink);\n",
              "        }\n",
              "      </script>\n",
              "    </div>\n",
              "  </div>\n",
              "  "
            ]
          },
          "metadata": {},
          "execution_count": 3
        }
      ],
      "source": [
        "df = pd.read_csv(r\"/content/collegePlace.csv\")\n",
        "df.head()"
      ]
    },
    {
      "cell_type": "code",
      "execution_count": 4,
      "metadata": {
        "colab": {
          "base_uri": "https://localhost:8080/"
        },
        "id": "AU9ZAyft0x6q",
        "outputId": "9151dba3-a493-4bbf-84ad-f1301f18bb4f"
      },
      "outputs": [
        {
          "output_type": "execute_result",
          "data": {
            "text/plain": [
              "(2966, 8)"
            ]
          },
          "metadata": {},
          "execution_count": 4
        }
      ],
      "source": [
        "df.shape"
      ]
    },
    {
      "cell_type": "code",
      "execution_count": 4,
      "metadata": {
        "id": "gGr4ZraI0xpI"
      },
      "outputs": [],
      "source": []
    },
    {
      "cell_type": "code",
      "execution_count": 5,
      "metadata": {
        "colab": {
          "base_uri": "https://localhost:8080/"
        },
        "id": "Y01x8PO2PCl5",
        "outputId": "a23391ae-1872-44dd-8521-518132c5091f"
      },
      "outputs": [
        {
          "output_type": "stream",
          "name": "stdout",
          "text": [
            "<class 'pandas.core.frame.DataFrame'>\n",
            "RangeIndex: 2966 entries, 0 to 2965\n",
            "Data columns (total 8 columns):\n",
            " #   Column             Non-Null Count  Dtype \n",
            "---  ------             --------------  ----- \n",
            " 0   Age                2966 non-null   int64 \n",
            " 1   Gender             2966 non-null   object\n",
            " 2   Stream             2966 non-null   object\n",
            " 3   Internships        2966 non-null   int64 \n",
            " 4   CGPA               2966 non-null   int64 \n",
            " 5   Hostel             2966 non-null   int64 \n",
            " 6   HistoryOfBacklogs  2966 non-null   int64 \n",
            " 7   PlacedOrNot        2966 non-null   int64 \n",
            "dtypes: int64(6), object(2)\n",
            "memory usage: 185.5+ KB\n"
          ]
        }
      ],
      "source": [
        "df.info()"
      ]
    },
    {
      "cell_type": "code",
      "execution_count": 6,
      "metadata": {
        "colab": {
          "base_uri": "https://localhost:8080/"
        },
        "id": "KX3HLXmGsYDO",
        "outputId": "6066598b-4f7b-4eea-d687-f9ab3899fdb9"
      },
      "outputs": [
        {
          "output_type": "execute_result",
          "data": {
            "text/plain": [
              "Age                  0\n",
              "Gender               0\n",
              "Stream               0\n",
              "Internships          0\n",
              "CGPA                 0\n",
              "Hostel               0\n",
              "HistoryOfBacklogs    0\n",
              "PlacedOrNot          0\n",
              "dtype: int64"
            ]
          },
          "metadata": {},
          "execution_count": 6
        }
      ],
      "source": [
        "df.isnull().sum()"
      ]
    },
    {
      "cell_type": "code",
      "execution_count": 7,
      "metadata": {
        "colab": {
          "base_uri": "https://localhost:8080/",
          "height": 975
        },
        "id": "VfB0T2tw1DBo",
        "outputId": "504d5d8f-f898-4ce0-d6da-fb6deaab5990"
      },
      "outputs": [
        {
          "output_type": "execute_result",
          "data": {
            "text/plain": [
              "<seaborn.axisgrid.PairGrid at 0x7f2ad9639100>"
            ]
          },
          "metadata": {},
          "execution_count": 7
        },
        {
          "output_type": "display_data",
          "data": {
            "text/plain": [
              "<Figure size 1500x1500 with 42 Axes>"
            ],
            "image/png": "[encoded data removed]"
          },
          "metadata": {}
        }
      ],
      "source": [
        "sns.pairplot(df)"
      ]
    },
    {
      "cell_type": "code",
      "execution_count": 8,
      "metadata": {
        "id": "L80xz6at1Zxu"
      },
      "outputs": [],
      "source": [
        "corr = df.corr()"
      ]
    },
    {
      "cell_type": "code",
      "execution_count": 9,
      "metadata": {
        "colab": {
          "base_uri": "https://localhost:8080/",
          "height": 770
        },
        "id": "UAbgErAm1fDK",
        "outputId": "46697bdd-a5ca-4e6e-a239-ddaa2b1ff026"
      },
      "outputs": [
        {
          "output_type": "display_data",
          "data": {
            "text/plain": [
              "<Figure size 640x480 with 2 Axes>"
            ],
            "image/png": "[encoded data removed]"
          },
          "metadata": {}
        },
        {
          "output_type": "execute_result",
          "data": {
            "text/plain": [
              "                        Age  Internships      CGPA    Hostel  \\\n",
              "Age                1.000000     0.006552 -0.119787  0.003042   \n",
              "Internships        0.006552     1.000000  0.023496  0.004617   \n",
              "CGPA              -0.119787     0.023496  1.000000  0.014991   \n",
              "Hostel             0.003042     0.004617  0.014991  1.000000   \n",
              "HistoryOfBacklogs -0.042586    -0.015118  0.002576  0.103506   \n",
              "PlacedOrNot        0.046943     0.179334  0.588648 -0.038182   \n",
              "\n",
              "                   HistoryOfBacklogs  PlacedOrNot  \n",
              "Age                        -0.042586     0.046943  \n",
              "Internships                -0.015118     0.179334  \n",
              "CGPA                        0.002576     0.588648  \n",
              "Hostel                      0.103506    -0.038182  \n",
              "HistoryOfBacklogs           1.000000    -0.022337  \n",
              "PlacedOrNot                -0.022337     1.000000  "
            ],
            "text/html": [
              "\n",
              "  <div id=\"df-fe72caf7-e7fb-49fd-9f11-5015f9d6cf11\">\n",
              "    <div class=\"colab-df-container\">\n",
              "      <div>\n",
              "<style scoped>\n",
              "    .dataframe tbody tr th:only-of-type {\n",
              "        vertical-align: middle;\n",
              "    }\n",
              "\n",
              "    .dataframe tbody tr th {\n",
              "        vertical-align: top;\n",
              "    }\n",
              "\n",
              "    .dataframe thead th {\n",
              "        text-align: right;\n",
              "    }\n",
              "</style>\n",
              "<table border=\"1\" class=\"dataframe\">\n",
              "  <thead>\n",
              "    <tr style=\"text-align: right;\">\n",
              "      <th></th>\n",
              "      <th>Age</th>\n",
              "      <th>Internships</th>\n",
              "      <th>CGPA</th>\n",
              "      <th>Hostel</th>\n",
              "      <th>HistoryOfBacklogs</th>\n",
              "      <th>PlacedOrNot</th>\n",
              "    </tr>\n",
              "  </thead>\n",
              "  <tbody>\n",
              "    <tr>\n",
              "      <th>Age</th>\n",
              "      <td>1.000000</td>\n",
              "      <td>0.006552</td>\n",
              "      <td>-0.119787</td>\n",
              "      <td>0.003042</td>\n",
              "      <td>-0.042586</td>\n",
              "      <td>0.046943</td>\n",
              "    </tr>\n",
              "    <tr>\n",
              "      <th>Internships</th>\n",
              "      <td>0.006552</td>\n",
              "      <td>1.000000</td>\n",
              "      <td>0.023496</td>\n",
              "      <td>0.004617</td>\n",
              "      <td>-0.015118</td>\n",
              "      <td>0.179334</td>\n",
              "    </tr>\n",
              "    <tr>\n",
              "      <th>CGPA</th>\n",
              "      <td>-0.119787</td>\n",
              "      <td>0.023496</td>\n",
              "      <td>1.000000</td>\n",
              "      <td>0.014991</td>\n",
              "      <td>0.002576</td>\n",
              "      <td>0.588648</td>\n",
              "    </tr>\n",
              "    <tr>\n",
              "      <th>Hostel</th>\n",
              "      <td>0.003042</td>\n",
              "      <td>0.004617</td>\n",
              "      <td>0.014991</td>\n",
              "      <td>1.000000</td>\n",
              "      <td>0.103506</td>\n",
              "      <td>-0.038182</td>\n",
              "    </tr>\n",
              "    <tr>\n",
              "      <th>HistoryOfBacklogs</th>\n",
              "      <td>-0.042586</td>\n",
              "      <td>-0.015118</td>\n",
              "      <td>0.002576</td>\n",
              "      <td>0.103506</td>\n",
              "      <td>1.000000</td>\n",
              "      <td>-0.022337</td>\n",
              "    </tr>\n",
              "    <tr>\n",
              "      <th>PlacedOrNot</th>\n",
              "      <td>0.046943</td>\n",
              "      <td>0.179334</td>\n",
              "      <td>0.588648</td>\n",
              "      <td>-0.038182</td>\n",
              "      <td>-0.022337</td>\n",
              "      <td>1.000000</td>\n",
              "    </tr>\n",
              "  </tbody>\n",
              "</table>\n",
              "</div>\n",
              "      <button class=\"colab-df-convert\" onclick=\"convertToInteractive('df-fe72caf7-e7fb-49fd-9f11-5015f9d6cf11')\"\n",
              "              title=\"Convert this dataframe to an interactive table.\"\n",
              "              style=\"display:none;\">\n",
              "        \n",
              "  <svg xmlns=\"http://www.w3.org/2000/svg\" height=\"24px\"viewBox=\"0 0 24 24\"\n",
              "       width=\"24px\">\n",
              "    <path d=\"M0 0h24v24H0V0z\" fill=\"none\"/>\n",
              "    <path d=\"M18.56 5.44l.94 2.06.94-2.06 2.06-.94-2.06-.94-.94-2.06-.94 2.06-2.06.94zm-11 1L8.5 8.5l.94-2.06 2.06-.94-2.06-.94L8.5 2.5l-.94 2.06-2.06.94zm10 10l.94 2.06.94-2.06 2.06-.94-2.06-.94-.94-2.06-.94 2.06-2.06.94z\"/><path d=\"M17.41 7.96l-1.37-1.37c-.4-.4-.92-.59-1.43-.59-.52 0-1.04.2-1.43.59L10.3 9.45l-7.72 7.72c-.78.78-.78 2.05 0 2.83L4 21.41c.39.39.9.59 1.41.59.51 0 1.02-.2 1.41-.59l7.78-7.78 2.81-2.81c.8-.78.8-2.07 0-2.86zM5.41 20L4 18.59l7.72-7.72 1.47 1.35L5.41 20z\"/>\n",
              "  </svg>\n",
              "      </button>\n",
              "      \n",
              "  <style>\n",
              "    .colab-df-container {\n",
              "      display:flex;\n",
              "      flex-wrap:wrap;\n",
              "      gap: 12px;\n",
              "    }\n",
              "\n",
              "    .colab-df-convert {\n",
              "      background-color: #E8F0FE;\n",
              "      border: none;\n",
              "      border-radius: 50%;\n",
              "      cursor: pointer;\n",
              "      display: none;\n",
              "      fill: #1967D2;\n",
              "      height: 32px;\n",
              "      padding: 0 0 0 0;\n",
              "      width: 32px;\n",
              "    }\n",
              "\n",
              "    .colab-df-convert:hover {\n",
              "      background-color: #E2EBFA;\n",
              "      box-shadow: 0px 1px 2px rgba(60, 64, 67, 0.3), 0px 1px 3px 1px rgba(60, 64, 67, 0.15);\n",
              "      fill: #174EA6;\n",
              "    }\n",
              "\n",
              "    [theme=dark] .colab-df-convert {\n",
              "      background-color: #3B4455;\n",
              "      fill: #D2E3FC;\n",
              "    }\n",
              "\n",
              "    [theme=dark] .colab-df-convert:hover {\n",
              "      background-color: #434B5C;\n",
              "      box-shadow: 0px 1px 3px 1px rgba(0, 0, 0, 0.15);\n",
              "      filter: drop-shadow(0px 1px 2px rgba(0, 0, 0, 0.3));\n",
              "      fill: #FFFFFF;\n",
              "    }\n",
              "  </style>\n",
              "\n",
              "      <script>\n",
              "        const buttonEl =\n",
              "          document.querySelector('#df-fe72caf7-e7fb-49fd-9f11-5015f9d6cf11 button.colab-df-convert');\n",
              "        buttonEl.style.display =\n",
              "          google.colab.kernel.accessAllowed ? 'block' : 'none';\n",
              "\n",
              "        async function convertToInteractive(key) {\n",
              "          const element = document.querySelector('#df-fe72caf7-e7fb-49fd-9f11-5015f9d6cf11');\n",
              "          const dataTable =\n",
              "            await google.colab.kernel.invokeFunction('convertToInteractive',\n",
              "                                                     [key], {});\n",
              "          if (!dataTable) return;\n",
              "\n",
              "          const docLinkHtml = 'Like what you see? Visit the ' +\n",
              "            '<a target=\"_blank\" href=https://colab.research.google.com/notebooks/data_table.ipynb>data table notebook</a>'\n",
              "            + ' to learn more about interactive tables.';\n",
              "          element.innerHTML = '';\n",
              "          dataTable['output_type'] = 'display_data';\n",
              "          await google.colab.output.renderOutput(dataTable, element);\n",
              "          const docLink = document.createElement('div');\n",
              "          docLink.innerHTML = docLinkHtml;\n",
              "          element.appendChild(docLink);\n",
              "        }\n",
              "      </script>\n",
              "    </div>\n",
              "  </div>\n",
              "  "
            ]
          },
          "metadata": {},
          "execution_count": 9
        }
      ],
      "source": [
        "ax=sns.heatmap(corr,vmin=-1,vmax=1,annot=True)\n",
        "bottom,top=ax.get_ylim()\n",
        "ax.set_ylim(bottom+0.5, top-0.5)\n",
        "plt.show()\n",
        "corr"
      ]
    },
    {
      "cell_type": "code",
      "execution_count": 10,
      "metadata": {
        "colab": {
          "base_uri": "https://localhost:8080/",
          "height": 465
        },
        "id": "qq49_9TtW_-w",
        "outputId": "c38d660f-9f23-4b7f-9ad7-b4ef036e300f"
      },
      "outputs": [
        {
          "output_type": "display_data",
          "data": {
            "text/plain": [
              "<Figure size 1200x500 with 1 Axes>"
            ],
            "image/png": "[encoded data removed]"
          },
          "metadata": {}
        }
      ],
      "source": [
        "def transformationplot(feature):\n",
        "    plt.figure(figsize=(12,5))\n",
        "    plt.subplot(1,2,1)\n",
        "    sns.distplot(feature)\n",
        "\n",
        "transformationplot(np.log(df['Age']))"
      ]
    },
    {
      "cell_type": "code",
      "execution_count": 11,
      "metadata": {
        "colab": {
          "base_uri": "https://localhost:8080/",
          "height": 424
        },
        "id": "uPMwnpNTXT7V",
        "outputId": "5241ca3a-f517-4bdc-e464-b1e4529322e1"
      },
      "outputs": [
        {
          "output_type": "execute_result",
          "data": {
            "text/plain": [
              "      Age  Gender  Stream  Internships  CGPA  Hostel  HistoryOfBacklogs  \\\n",
              "0      22       0       2            1     8       1                  1   \n",
              "1      21       1       0            0     7       1                  1   \n",
              "2      22       1       1            1     6       0                  0   \n",
              "3      21       0       1            0     8       0                  1   \n",
              "4      22       0       3            0     8       1                  0   \n",
              "...   ...     ...     ...          ...   ...     ...                ...   \n",
              "2961   23       0       1            0     7       0                  0   \n",
              "2962   23       0       3            1     7       1                  0   \n",
              "2963   22       0       1            1     7       0                  0   \n",
              "2964   22       0       0            1     7       0                  0   \n",
              "2965   23       0       5            0     8       0                  0   \n",
              "\n",
              "      PlacedOrNot  \n",
              "0               1  \n",
              "1               1  \n",
              "2               1  \n",
              "3               1  \n",
              "4               1  \n",
              "...           ...  \n",
              "2961            0  \n",
              "2962            0  \n",
              "2963            0  \n",
              "2964            0  \n",
              "2965            1  \n",
              "\n",
              "[2966 rows x 8 columns]"
            ],
            "text/html": [
              "\n",
              "  <div id=\"df-a81fd608-eec7-4371-94c6-fcf677af3322\">\n",
              "    <div class=\"colab-df-container\">\n",
              "      <div>\n",
              "<style scoped>\n",
              "    .dataframe tbody tr th:only-of-type {\n",
              "        vertical-align: middle;\n",
              "    }\n",
              "\n",
              "    .dataframe tbody tr th {\n",
              "        vertical-align: top;\n",
              "    }\n",
              "\n",
              "    .dataframe thead th {\n",
              "        text-align: right;\n",
              "    }\n",
              "</style>\n",
              "<table border=\"1\" class=\"dataframe\">\n",
              "  <thead>\n",
              "    <tr style=\"text-align: right;\">\n",
              "      <th></th>\n",
              "      <th>Age</th>\n",
              "      <th>Gender</th>\n",
              "      <th>Stream</th>\n",
              "      <th>Internships</th>\n",
              "      <th>CGPA</th>\n",
              "      <th>Hostel</th>\n",
              "      <th>HistoryOfBacklogs</th>\n",
              "      <th>PlacedOrNot</th>\n",
              "    </tr>\n",
              "  </thead>\n",
              "  <tbody>\n",
              "    <tr>\n",
              "      <th>0</th>\n",
              "      <td>22</td>\n",
              "      <td>0</td>\n",
              "      <td>2</td>\n",
              "      <td>1</td>\n",
              "      <td>8</td>\n",
              "      <td>1</td>\n",
              "      <td>1</td>\n",
              "      <td>1</td>\n",
              "    </tr>\n",
              "    <tr>\n",
              "      <th>1</th>\n",
              "      <td>21</td>\n",
              "      <td>1</td>\n",
              "      <td>0</td>\n",
              "      <td>0</td>\n",
              "      <td>7</td>\n",
              "      <td>1</td>\n",
              "      <td>1</td>\n",
              "      <td>1</td>\n",
              "    </tr>\n",
              "    <tr>\n",
              "      <th>2</th>\n",
              "      <td>22</td>\n",
              "      <td>1</td>\n",
              "      <td>1</td>\n",
              "      <td>1</td>\n",
              "      <td>6</td>\n",
              "      <td>0</td>\n",
              "      <td>0</td>\n",
              "      <td>1</td>\n",
              "    </tr>\n",
              "    <tr>\n",
              "      <th>3</th>\n",
              "      <td>21</td>\n",
              "      <td>0</td>\n",
              "      <td>1</td>\n",
              "      <td>0</td>\n",
              "      <td>8</td>\n",
              "      <td>0</td>\n",
              "      <td>1</td>\n",
              "      <td>1</td>\n",
              "    </tr>\n",
              "    <tr>\n",
              "      <th>4</th>\n",
              "      <td>22</td>\n",
              "      <td>0</td>\n",
              "      <td>3</td>\n",
              "      <td>0</td>\n",
              "      <td>8</td>\n",
              "      <td>1</td>\n",
              "      <td>0</td>\n",
              "      <td>1</td>\n",
              "    </tr>\n",
              "    <tr>\n",
              "      <th>...</th>\n",
              "      <td>...</td>\n",
              "      <td>...</td>\n",
              "      <td>...</td>\n",
              "      <td>...</td>\n",
              "      <td>...</td>\n",
              "      <td>...</td>\n",
              "      <td>...</td>\n",
              "      <td>...</td>\n",
              "    </tr>\n",
              "    <tr>\n",
              "      <th>2961</th>\n",
              "      <td>23</td>\n",
              "      <td>0</td>\n",
              "      <td>1</td>\n",
              "      <td>0</td>\n",
              "      <td>7</td>\n",
              "      <td>0</td>\n",
              "      <td>0</td>\n",
              "      <td>0</td>\n",
              "    </tr>\n",
              "    <tr>\n",
              "      <th>2962</th>\n",
              "      <td>23</td>\n",
              "      <td>0</td>\n",
              "      <td>3</td>\n",
              "      <td>1</td>\n",
              "      <td>7</td>\n",
              "      <td>1</td>\n",
              "      <td>0</td>\n",
              "      <td>0</td>\n",
              "    </tr>\n",
              "    <tr>\n",
              "      <th>2963</th>\n",
              "      <td>22</td>\n",
              "      <td>0</td>\n",
              "      <td>1</td>\n",
              "      <td>1</td>\n",
              "      <td>7</td>\n",
              "      <td>0</td>\n",
              "      <td>0</td>\n",
              "      <td>0</td>\n",
              "    </tr>\n",
              "    <tr>\n",
              "      <th>2964</th>\n",
              "      <td>22</td>\n",
              "      <td>0</td>\n",
              "      <td>0</td>\n",
              "      <td>1</td>\n",
              "      <td>7</td>\n",
              "      <td>0</td>\n",
              "      <td>0</td>\n",
              "      <td>0</td>\n",
              "    </tr>\n",
              "    <tr>\n",
              "      <th>2965</th>\n",
              "      <td>23</td>\n",
              "      <td>0</td>\n",
              "      <td>5</td>\n",
              "      <td>0</td>\n",
              "      <td>8</td>\n",
              "      <td>0</td>\n",
              "      <td>0</td>\n",
              "      <td>1</td>\n",
              "    </tr>\n",
              "  </tbody>\n",
              "</table>\n",
              "<p>2966 rows × 8 columns</p>\n",
              "</div>\n",
              "      <button class=\"colab-df-convert\" onclick=\"convertToInteractive('df-a81fd608-eec7-4371-94c6-fcf677af3322')\"\n",
              "              title=\"Convert this dataframe to an interactive table.\"\n",
              "              style=\"display:none;\">\n",
              "        \n",
              "  <svg xmlns=\"http://www.w3.org/2000/svg\" height=\"24px\"viewBox=\"0 0 24 24\"\n",
              "       width=\"24px\">\n",
              "    <path d=\"M0 0h24v24H0V0z\" fill=\"none\"/>\n",
              "    <path d=\"M18.56 5.44l.94 2.06.94-2.06 2.06-.94-2.06-.94-.94-2.06-.94 2.06-2.06.94zm-11 1L8.5 8.5l.94-2.06 2.06-.94-2.06-.94L8.5 2.5l-.94 2.06-2.06.94zm10 10l.94 2.06.94-2.06 2.06-.94-2.06-.94-.94-2.06-.94 2.06-2.06.94z\"/><path d=\"M17.41 7.96l-1.37-1.37c-.4-.4-.92-.59-1.43-.59-.52 0-1.04.2-1.43.59L10.3 9.45l-7.72 7.72c-.78.78-.78 2.05 0 2.83L4 21.41c.39.39.9.59 1.41.59.51 0 1.02-.2 1.41-.59l7.78-7.78 2.81-2.81c.8-.78.8-2.07 0-2.86zM5.41 20L4 18.59l7.72-7.72 1.47 1.35L5.41 20z\"/>\n",
              "  </svg>\n",
              "      </button>\n",
              "      \n",
              "  <style>\n",
              "    .colab-df-container {\n",
              "      display:flex;\n",
              "      flex-wrap:wrap;\n",
              "      gap: 12px;\n",
              "    }\n",
              "\n",
              "    .colab-df-convert {\n",
              "      background-color: #E8F0FE;\n",
              "      border: none;\n",
              "      border-radius: 50%;\n",
              "      cursor: pointer;\n",
              "      display: none;\n",
              "      fill: #1967D2;\n",
              "      height: 32px;\n",
              "      padding: 0 0 0 0;\n",
              "      width: 32px;\n",
              "    }\n",
              "\n",
              "    .colab-df-convert:hover {\n",
              "      background-color: #E2EBFA;\n",
              "      box-shadow: 0px 1px 2px rgba(60, 64, 67, 0.3), 0px 1px 3px 1px rgba(60, 64, 67, 0.15);\n",
              "      fill: #174EA6;\n",
              "    }\n",
              "\n",
              "    [theme=dark] .colab-df-convert {\n",
              "      background-color: #3B4455;\n",
              "      fill: #D2E3FC;\n",
              "    }\n",
              "\n",
              "    [theme=dark] .colab-df-convert:hover {\n",
              "      background-color: #434B5C;\n",
              "      box-shadow: 0px 1px 3px 1px rgba(0, 0, 0, 0.15);\n",
              "      filter: drop-shadow(0px 1px 2px rgba(0, 0, 0, 0.3));\n",
              "      fill: #FFFFFF;\n",
              "    }\n",
              "  </style>\n",
              "\n",
              "      <script>\n",
              "        const buttonEl =\n",
              "          document.querySelector('#df-a81fd608-eec7-4371-94c6-fcf677af3322 button.colab-df-convert');\n",
              "        buttonEl.style.display =\n",
              "          google.colab.kernel.accessAllowed ? 'block' : 'none';\n",
              "\n",
              "        async function convertToInteractive(key) {\n",
              "          const element = document.querySelector('#df-a81fd608-eec7-4371-94c6-fcf677af3322');\n",
              "          const dataTable =\n",
              "            await google.colab.kernel.invokeFunction('convertToInteractive',\n",
              "                                                     [key], {});\n",
              "          if (!dataTable) return;\n",
              "\n",
              "          const docLinkHtml = 'Like what you see? Visit the ' +\n",
              "            '<a target=\"_blank\" href=https://colab.research.google.com/notebooks/data_table.ipynb>data table notebook</a>'\n",
              "            + ' to learn more about interactive tables.';\n",
              "          element.innerHTML = '';\n",
              "          dataTable['output_type'] = 'display_data';\n",
              "          await google.colab.output.renderOutput(dataTable, element);\n",
              "          const docLink = document.createElement('div');\n",
              "          docLink.innerHTML = docLinkHtml;\n",
              "          element.appendChild(docLink);\n",
              "        }\n",
              "      </script>\n",
              "    </div>\n",
              "  </div>\n",
              "  "
            ]
          },
          "metadata": {},
          "execution_count": 11
        }
      ],
      "source": [
        "df = df.replace(['Male'],[0])\n",
        "df = df.replace(['Female'],[1])\n",
        "\n",
        "\n",
        "df = df.replace(['computer science'],[0])\n",
        "df = df.replace(['Computer Science'],[0])\n",
        "df = df.replace(['Information Technology'],[1])\n",
        "df = df.replace(['Electronics And Communication'],[2])\n",
        "df = df.replace(['Mechanical'],[3])\n",
        "df = df.replace(['Electrical'],[4])\n",
        "df = df.replace(['Civil'],[5])\n",
        "df "
      ]
    },
    {
      "cell_type": "code",
      "execution_count": 12,
      "metadata": {
        "colab": {
          "base_uri": "https://localhost:8080/",
          "height": 482
        },
        "id": "YnyGztHgiF_q",
        "outputId": "9f784ad2-f595-4ab8-dc1d-7c685329dc44"
      },
      "outputs": [
        {
          "output_type": "execute_result",
          "data": {
            "text/plain": [
              "<Axes: xlabel='CGPA', ylabel='Density'>"
            ]
          },
          "metadata": {},
          "execution_count": 12
        },
        {
          "output_type": "display_data",
          "data": {
            "text/plain": [
              "<Figure size 1200x500 with 1 Axes>"
            ],
            "image/png": "[encoded data removed]"
          },
          "metadata": {}
        }
      ],
      "source": [
        "plt.figure(figsize=(12,5))\n",
        "plt.subplot(121)\n",
        "sns.distplot(df['CGPA'],color='r')"
      ]
    },
    {
      "cell_type": "code",
      "execution_count": 13,
      "metadata": {
        "colab": {
          "base_uri": "https://localhost:8080/",
          "height": 482
        },
        "id": "WBNVa-DNuTG3",
        "outputId": "0940434a-e2a7-49ff-8fa9-c845373cccf1"
      },
      "outputs": [
        {
          "output_type": "execute_result",
          "data": {
            "text/plain": [
              "<Axes: xlabel='PlacedOrNot', ylabel='Density'>"
            ]
          },
          "metadata": {},
          "execution_count": 13
        },
        {
          "output_type": "display_data",
          "data": {
            "text/plain": [
              "<Figure size 1200x500 with 1 Axes>"
            ],
            "image/png": "[encoded data removed]"
          },
          "metadata": {}
        }
      ],
      "source": [
        "plt.figure(figsize=(12,5))\n",
        "plt.subplot(121)\n",
        "sns.distplot(df['PlacedOrNot'],color='g')"
      ]
    },
    {
      "cell_type": "code",
      "execution_count": 14,
      "metadata": {
        "colab": {
          "base_uri": "https://localhost:8080/"
        },
        "id": "9PcANlvkvkyH",
        "outputId": "1408da31-ede5-48e2-b5f9-8fb56f1b9986"
      },
      "outputs": [
        {
          "output_type": "execute_result",
          "data": {
            "text/plain": [
              "<bound method DataFrame.info of       Age  Gender  Stream  Internships  CGPA  Hostel  HistoryOfBacklogs  \\\n",
              "0      22       0       2            1     8       1                  1   \n",
              "1      21       1       0            0     7       1                  1   \n",
              "2      22       1       1            1     6       0                  0   \n",
              "3      21       0       1            0     8       0                  1   \n",
              "4      22       0       3            0     8       1                  0   \n",
              "...   ...     ...     ...          ...   ...     ...                ...   \n",
              "2961   23       0       1            0     7       0                  0   \n",
              "2962   23       0       3            1     7       1                  0   \n",
              "2963   22       0       1            1     7       0                  0   \n",
              "2964   22       0       0            1     7       0                  0   \n",
              "2965   23       0       5            0     8       0                  0   \n",
              "\n",
              "      PlacedOrNot  \n",
              "0               1  \n",
              "1               1  \n",
              "2               1  \n",
              "3               1  \n",
              "4               1  \n",
              "...           ...  \n",
              "2961            0  \n",
              "2962            0  \n",
              "2963            0  \n",
              "2964            0  \n",
              "2965            1  \n",
              "\n",
              "[2966 rows x 8 columns]>"
            ]
          },
          "metadata": {},
          "execution_count": 14
        }
      ],
      "source": [
        "df.info"
      ]
    },
    {
      "cell_type": "code",
      "execution_count": 15,
      "metadata": {
        "colab": {
          "base_uri": "https://localhost:8080/",
          "height": 482
        },
        "id": "Px6-lk3evvJn",
        "outputId": "3fe181c5-4bd3-4af5-b72e-6211c5f10d30"
      },
      "outputs": [
        {
          "output_type": "execute_result",
          "data": {
            "text/plain": [
              "<Axes: xlabel='CGPA', ylabel='Density'>"
            ]
          },
          "metadata": {},
          "execution_count": 15
        },
        {
          "output_type": "display_data",
          "data": {
            "text/plain": [
              "<Figure size 1200x500 with 1 Axes>"
            ],
            "image/png": "[encoded data removed]"
          },
          "metadata": {}
        }
      ],
      "source": [
        "plt.figure(figsize=(12,5))\n",
        "plt.subplot(121)\n",
        "sns.distplot(df['CGPA'],color='r')"
      ]
    },
    {
      "cell_type": "code",
      "execution_count": 16,
      "metadata": {
        "colab": {
          "base_uri": "https://localhost:8080/",
          "height": 369
        },
        "id": "shZnsNf4nkat",
        "outputId": "2cc7e816-f634-4a76-9979-af1c168b77c2"
      },
      "outputs": [
        {
          "output_type": "display_data",
          "data": {
            "text/plain": [
              "<Figure size 3000x500 with 2 Axes>"
            ],
            "image/png": "[encoded data removed]"
          },
          "metadata": {}
        }
      ],
      "source": [
        "from matplotlib.offsetbox import martist\n",
        "plt.figure(figsize=(30,5))\n",
        "plt.subplot(1,4,1)\n",
        "sns.countplot(x=\"PlacedOrNot\",data=df, ec='black')\n",
        "plt.subplot(1,4,2)\n",
        "sns.countplot(y=\"Stream\",data=df, ec='black')\n",
        "plt.show()"
      ]
    },
    {
      "cell_type": "code",
      "execution_count": 17,
      "metadata": {
        "colab": {
          "base_uri": "https://localhost:8080/",
          "height": 482
        },
        "id": "LaKGTsHpcwJs",
        "outputId": "00f1799b-b860-4abc-efc5-c2b7c94470c0"
      },
      "outputs": [
        {
          "output_type": "execute_result",
          "data": {
            "text/plain": [
              "<Axes: xlabel='PlacedOrNot', ylabel='count'>"
            ]
          },
          "metadata": {},
          "execution_count": 17
        },
        {
          "output_type": "display_data",
          "data": {
            "text/plain": [
              "<Figure size 2000x500 with 1 Axes>"
            ],
            "image/png": "[encoded data removed]"
          },
          "metadata": {}
        }
      ],
      "source": [
        "plt.figure(figsize=(20,5))\n",
        "plt.subplot(131)\n",
        "sns.countplot(x=\"PlacedOrNot\", data=df, hue='CGPA' , ec='black')"
      ]
    },
    {
      "cell_type": "code",
      "execution_count": 18,
      "metadata": {
        "id": "xHl606VHdi3T"
      },
      "outputs": [],
      "source": [
        "#sns.swarmplot(x='PlacedOrNot',y='CGPA', hue='Stream', data=df)\n"
      ]
    },
    {
      "cell_type": "code",
      "execution_count": 19,
      "metadata": {
        "colab": {
          "base_uri": "https://localhost:8080/",
          "height": 300
        },
        "id": "yUVBKYQHzz1u",
        "outputId": "293ef14e-96f7-4bc2-f788-cef3e515781c"
      },
      "outputs": [
        {
          "output_type": "execute_result",
          "data": {
            "text/plain": [
              "               Age       Gender       Stream  Internships         CGPA  \\\n",
              "count  2966.000000  2966.000000  2966.000000  2966.000000  2966.000000   \n",
              "mean     21.485840     0.165543     1.932569     0.703641     7.073837   \n",
              "std       1.324933     0.371732     1.682618     0.740197     0.967748   \n",
              "min      19.000000     0.000000     0.000000     0.000000     5.000000   \n",
              "25%      21.000000     0.000000     0.000000     0.000000     6.000000   \n",
              "50%      21.000000     0.000000     2.000000     1.000000     7.000000   \n",
              "75%      22.000000     0.000000     3.000000     1.000000     8.000000   \n",
              "max      30.000000     1.000000     5.000000     3.000000     9.000000   \n",
              "\n",
              "            Hostel  HistoryOfBacklogs  PlacedOrNot  \n",
              "count  2966.000000        2966.000000  2966.000000  \n",
              "mean      0.269049           0.192178     0.552596  \n",
              "std       0.443540           0.394079     0.497310  \n",
              "min       0.000000           0.000000     0.000000  \n",
              "25%       0.000000           0.000000     0.000000  \n",
              "50%       0.000000           0.000000     1.000000  \n",
              "75%       1.000000           0.000000     1.000000  \n",
              "max       1.000000           1.000000     1.000000  "
            ],
            "text/html": [
              "\n",
              "  <div id=\"df-f722bc67-0708-450f-b02e-cd9c20dd0f6e\">\n",
              "    <div class=\"colab-df-container\">\n",
              "      <div>\n",
              "<style scoped>\n",
              "    .dataframe tbody tr th:only-of-type {\n",
              "        vertical-align: middle;\n",
              "    }\n",
              "\n",
              "    .dataframe tbody tr th {\n",
              "        vertical-align: top;\n",
              "    }\n",
              "\n",
              "    .dataframe thead th {\n",
              "        text-align: right;\n",
              "    }\n",
              "</style>\n",
              "<table border=\"1\" class=\"dataframe\">\n",
              "  <thead>\n",
              "    <tr style=\"text-align: right;\">\n",
              "      <th></th>\n",
              "      <th>Age</th>\n",
              "      <th>Gender</th>\n",
              "      <th>Stream</th>\n",
              "      <th>Internships</th>\n",
              "      <th>CGPA</th>\n",
              "      <th>Hostel</th>\n",
              "      <th>HistoryOfBacklogs</th>\n",
              "      <th>PlacedOrNot</th>\n",
              "    </tr>\n",
              "  </thead>\n",
              "  <tbody>\n",
              "    <tr>\n",
              "      <th>count</th>\n",
              "      <td>2966.000000</td>\n",
              "      <td>2966.000000</td>\n",
              "      <td>2966.000000</td>\n",
              "      <td>2966.000000</td>\n",
              "      <td>2966.000000</td>\n",
              "      <td>2966.000000</td>\n",
              "      <td>2966.000000</td>\n",
              "      <td>2966.000000</td>\n",
              "    </tr>\n",
              "    <tr>\n",
              "      <th>mean</th>\n",
              "      <td>21.485840</td>\n",
              "      <td>0.165543</td>\n",
              "      <td>1.932569</td>\n",
              "      <td>0.703641</td>\n",
              "      <td>7.073837</td>\n",
              "      <td>0.269049</td>\n",
              "      <td>0.192178</td>\n",
              "      <td>0.552596</td>\n",
              "    </tr>\n",
              "    <tr>\n",
              "      <th>std</th>\n",
              "      <td>1.324933</td>\n",
              "      <td>0.371732</td>\n",
              "      <td>1.682618</td>\n",
              "      <td>0.740197</td>\n",
              "      <td>0.967748</td>\n",
              "      <td>0.443540</td>\n",
              "      <td>0.394079</td>\n",
              "      <td>0.497310</td>\n",
              "    </tr>\n",
              "    <tr>\n",
              "      <th>min</th>\n",
              "      <td>19.000000</td>\n",
              "      <td>0.000000</td>\n",
              "      <td>0.000000</td>\n",
              "      <td>0.000000</td>\n",
              "      <td>5.000000</td>\n",
              "      <td>0.000000</td>\n",
              "      <td>0.000000</td>\n",
              "      <td>0.000000</td>\n",
              "    </tr>\n",
              "    <tr>\n",
              "      <th>25%</th>\n",
              "      <td>21.000000</td>\n",
              "      <td>0.000000</td>\n",
              "      <td>0.000000</td>\n",
              "      <td>0.000000</td>\n",
              "      <td>6.000000</td>\n",
              "      <td>0.000000</td>\n",
              "      <td>0.000000</td>\n",
              "      <td>0.000000</td>\n",
              "    </tr>\n",
              "    <tr>\n",
              "      <th>50%</th>\n",
              "      <td>21.000000</td>\n",
              "      <td>0.000000</td>\n",
              "      <td>2.000000</td>\n",
              "      <td>1.000000</td>\n",
              "      <td>7.000000</td>\n",
              "      <td>0.000000</td>\n",
              "      <td>0.000000</td>\n",
              "      <td>1.000000</td>\n",
              "    </tr>\n",
              "    <tr>\n",
              "      <th>75%</th>\n",
              "      <td>22.000000</td>\n",
              "      <td>0.000000</td>\n",
              "      <td>3.000000</td>\n",
              "      <td>1.000000</td>\n",
              "      <td>8.000000</td>\n",
              "      <td>1.000000</td>\n",
              "      <td>0.000000</td>\n",
              "      <td>1.000000</td>\n",
              "    </tr>\n",
              "    <tr>\n",
              "      <th>max</th>\n",
              "      <td>30.000000</td>\n",
              "      <td>1.000000</td>\n",
              "      <td>5.000000</td>\n",
              "      <td>3.000000</td>\n",
              "      <td>9.000000</td>\n",
              "      <td>1.000000</td>\n",
              "      <td>1.000000</td>\n",
              "      <td>1.000000</td>\n",
              "    </tr>\n",
              "  </tbody>\n",
              "</table>\n",
              "</div>\n",
              "      <button class=\"colab-df-convert\" onclick=\"convertToInteractive('df-f722bc67-0708-450f-b02e-cd9c20dd0f6e')\"\n",
              "              title=\"Convert this dataframe to an interactive table.\"\n",
              "              style=\"display:none;\">\n",
              "        \n",
              "  <svg xmlns=\"http://www.w3.org/2000/svg\" height=\"24px\"viewBox=\"0 0 24 24\"\n",
              "       width=\"24px\">\n",
              "    <path d=\"M0 0h24v24H0V0z\" fill=\"none\"/>\n",
              "    <path d=\"M18.56 5.44l.94 2.06.94-2.06 2.06-.94-2.06-.94-.94-2.06-.94 2.06-2.06.94zm-11 1L8.5 8.5l.94-2.06 2.06-.94-2.06-.94L8.5 2.5l-.94 2.06-2.06.94zm10 10l.94 2.06.94-2.06 2.06-.94-2.06-.94-.94-2.06-.94 2.06-2.06.94z\"/><path d=\"M17.41 7.96l-1.37-1.37c-.4-.4-.92-.59-1.43-.59-.52 0-1.04.2-1.43.59L10.3 9.45l-7.72 7.72c-.78.78-.78 2.05 0 2.83L4 21.41c.39.39.9.59 1.41.59.51 0 1.02-.2 1.41-.59l7.78-7.78 2.81-2.81c.8-.78.8-2.07 0-2.86zM5.41 20L4 18.59l7.72-7.72 1.47 1.35L5.41 20z\"/>\n",
              "  </svg>\n",
              "      </button>\n",
              "      \n",
              "  <style>\n",
              "    .colab-df-container {\n",
              "      display:flex;\n",
              "      flex-wrap:wrap;\n",
              "      gap: 12px;\n",
              "    }\n",
              "\n",
              "    .colab-df-convert {\n",
              "      background-color: #E8F0FE;\n",
              "      border: none;\n",
              "      border-radius: 50%;\n",
              "      cursor: pointer;\n",
              "      display: none;\n",
              "      fill: #1967D2;\n",
              "      height: 32px;\n",
              "      padding: 0 0 0 0;\n",
              "      width: 32px;\n",
              "    }\n",
              "\n",
              "    .colab-df-convert:hover {\n",
              "      background-color: #E2EBFA;\n",
              "      box-shadow: 0px 1px 2px rgba(60, 64, 67, 0.3), 0px 1px 3px 1px rgba(60, 64, 67, 0.15);\n",
              "      fill: #174EA6;\n",
              "    }\n",
              "\n",
              "    [theme=dark] .colab-df-convert {\n",
              "      background-color: #3B4455;\n",
              "      fill: #D2E3FC;\n",
              "    }\n",
              "\n",
              "    [theme=dark] .colab-df-convert:hover {\n",
              "      background-color: #434B5C;\n",
              "      box-shadow: 0px 1px 3px 1px rgba(0, 0, 0, 0.15);\n",
              "      filter: drop-shadow(0px 1px 2px rgba(0, 0, 0, 0.3));\n",
              "      fill: #FFFFFF;\n",
              "    }\n",
              "  </style>\n",
              "\n",
              "      <script>\n",
              "        const buttonEl =\n",
              "          document.querySelector('#df-f722bc67-0708-450f-b02e-cd9c20dd0f6e button.colab-df-convert');\n",
              "        buttonEl.style.display =\n",
              "          google.colab.kernel.accessAllowed ? 'block' : 'none';\n",
              "\n",
              "        async function convertToInteractive(key) {\n",
              "          const element = document.querySelector('#df-f722bc67-0708-450f-b02e-cd9c20dd0f6e');\n",
              "          const dataTable =\n",
              "            await google.colab.kernel.invokeFunction('convertToInteractive',\n",
              "                                                     [key], {});\n",
              "          if (!dataTable) return;\n",
              "\n",
              "          const docLinkHtml = 'Like what you see? Visit the ' +\n",
              "            '<a target=\"_blank\" href=https://colab.research.google.com/notebooks/data_table.ipynb>data table notebook</a>'\n",
              "            + ' to learn more about interactive tables.';\n",
              "          element.innerHTML = '';\n",
              "          dataTable['output_type'] = 'display_data';\n",
              "          await google.colab.output.renderOutput(dataTable, element);\n",
              "          const docLink = document.createElement('div');\n",
              "          docLink.innerHTML = docLinkHtml;\n",
              "          element.appendChild(docLink);\n",
              "        }\n",
              "      </script>\n",
              "    </div>\n",
              "  </div>\n",
              "  "
            ]
          },
          "metadata": {},
          "execution_count": 19
        }
      ],
      "source": [
        "df.describe()"
      ]
    },
    {
      "cell_type": "code",
      "execution_count": 20,
      "metadata": {
        "colab": {
          "base_uri": "https://localhost:8080/"
        },
        "id": "omtEEYmp3Yxg",
        "outputId": "0b1562f0-87fc-4d37-eb1b-516bce29e530"
      },
      "outputs": [
        {
          "output_type": "stream",
          "name": "stdout",
          "text": [
            "<class 'pandas.core.frame.DataFrame'>\n",
            "RangeIndex: 2966 entries, 0 to 2965\n",
            "Data columns (total 8 columns):\n",
            " #   Column             Non-Null Count  Dtype\n",
            "---  ------             --------------  -----\n",
            " 0   Age                2966 non-null   int64\n",
            " 1   Gender             2966 non-null   int64\n",
            " 2   Stream             2966 non-null   int64\n",
            " 3   Internships        2966 non-null   int64\n",
            " 4   CGPA               2966 non-null   int64\n",
            " 5   Hostel             2966 non-null   int64\n",
            " 6   HistoryOfBacklogs  2966 non-null   int64\n",
            " 7   PlacedOrNot        2966 non-null   int64\n",
            "dtypes: int64(8)\n",
            "memory usage: 185.5 KB\n"
          ]
        }
      ],
      "source": [
        "df.info()"
      ]
    },
    {
      "cell_type": "code",
      "execution_count": 21,
      "metadata": {
        "colab": {
          "base_uri": "https://localhost:8080/"
        },
        "id": "HYNHvdxj3_35",
        "outputId": "a54c13db-53e5-4da7-9b40-956a0bad2ac0"
      },
      "outputs": [
        {
          "output_type": "execute_result",
          "data": {
            "text/plain": [
              "0    2475\n",
              "1     491\n",
              "Name: Gender, dtype: int64"
            ]
          },
          "metadata": {},
          "execution_count": 21
        }
      ],
      "source": [
        "df['Gender'].value_counts()"
      ]
    },
    {
      "cell_type": "code",
      "source": [
        "df=df.drop(['Hostel'], axis=1)"
      ],
      "metadata": {
        "id": "4Vn3UJY-e1jx"
      },
      "execution_count": 22,
      "outputs": []
    },
    {
      "cell_type": "code",
      "execution_count": 23,
      "metadata": {
        "colab": {
          "base_uri": "https://localhost:8080/"
        },
        "id": "QuYs0etg0mMY",
        "outputId": "7f326728-83ea-4a40-81db-fbb6c9727ee9"
      },
      "outputs": [
        {
          "output_type": "stream",
          "name": "stdout",
          "text": [
            "      Age  Gender  Stream  Internships  CGPA  HistoryOfBacklogs\n",
            "0      22       0       2            1     8                  1\n",
            "1      21       1       0            0     7                  1\n",
            "2      22       1       1            1     6                  0\n",
            "3      21       0       1            0     8                  1\n",
            "4      22       0       3            0     8                  0\n",
            "...   ...     ...     ...          ...   ...                ...\n",
            "2961   23       0       1            0     7                  0\n",
            "2962   23       0       3            1     7                  0\n",
            "2963   22       0       1            1     7                  0\n",
            "2964   22       0       0            1     7                  0\n",
            "2965   23       0       5            0     8                  0\n",
            "\n",
            "[2966 rows x 6 columns]\n",
            "0       1\n",
            "1       1\n",
            "2       1\n",
            "3       1\n",
            "4       1\n",
            "       ..\n",
            "2961    0\n",
            "2962    0\n",
            "2963    0\n",
            "2964    0\n",
            "2965    1\n",
            "Name: PlacedOrNot, Length: 2966, dtype: int64\n"
          ]
        }
      ],
      "source": [
        "x=df.drop('PlacedOrNot',axis=1)\n",
        "y=df['PlacedOrNot']\n",
        "import joblib\n",
        "joblib.dump(x,\"placement\")\n",
        "print(x)\n",
        "print(y)"
      ]
    },
    {
      "cell_type": "code",
      "execution_count": 24,
      "metadata": {
        "id": "lpdK2dX4Afmg"
      },
      "outputs": [],
      "source": [
        "sc=StandardScaler()"
      ]
    },
    {
      "cell_type": "code",
      "execution_count": 25,
      "metadata": {
        "colab": {
          "base_uri": "https://localhost:8080/",
          "height": 92
        },
        "id": "KKZlZcJPB1te",
        "outputId": "e9e1a060-c726-4fad-c5ee-c1133ff80cec"
      },
      "outputs": [
        {
          "output_type": "stream",
          "name": "stdout",
          "text": [
            "StandardScaler()\n"
          ]
        },
        {
          "output_type": "execute_result",
          "data": {
            "text/plain": [
              "StandardScaler()"
            ],
            "text/html": [
              "<style>#sk-container-id-1 {color: black;background-color: white;}#sk-container-id-1 pre{padding: 0;}#sk-container-id-1 div.sk-toggleable {background-color: white;}#sk-container-id-1 label.sk-toggleable__label {cursor: pointer;display: block;width: 100%;margin-bottom: 0;padding: 0.3em;box-sizing: border-box;text-align: center;}#sk-container-id-1 label.sk-toggleable__label-arrow:before {content: \"▸\";float: left;margin-right: 0.25em;color: #696969;}#sk-container-id-1 label.sk-toggleable__label-arrow:hover:before {color: black;}#sk-container-id-1 div.sk-estimator:hover label.sk-toggleable__label-arrow:before {color: black;}#sk-container-id-1 div.sk-toggleable__content {max-height: 0;max-width: 0;overflow: hidden;text-align: left;background-color: #f0f8ff;}#sk-container-id-1 div.sk-toggleable__content pre {margin: 0.2em;color: black;border-radius: 0.25em;background-color: #f0f8ff;}#sk-container-id-1 input.sk-toggleable__control:checked~div.sk-toggleable__content {max-height: 200px;max-width: 100%;overflow: auto;}#sk-container-id-1 input.sk-toggleable__control:checked~label.sk-toggleable__label-arrow:before {content: \"▾\";}#sk-container-id-1 div.sk-estimator input.sk-toggleable__control:checked~label.sk-toggleable__label {background-color: #d4ebff;}#sk-container-id-1 div.sk-label input.sk-toggleable__control:checked~label.sk-toggleable__label {background-color: #d4ebff;}#sk-container-id-1 input.sk-hidden--visually {border: 0;clip: rect(1px 1px 1px 1px);clip: rect(1px, 1px, 1px, 1px);height: 1px;margin: -1px;overflow: hidden;padding: 0;position: absolute;width: 1px;}#sk-container-id-1 div.sk-estimator {font-family: monospace;background-color: #f0f8ff;border: 1px dotted black;border-radius: 0.25em;box-sizing: border-box;margin-bottom: 0.5em;}#sk-container-id-1 div.sk-estimator:hover {background-color: #d4ebff;}#sk-container-id-1 div.sk-parallel-item::after {content: \"\";width: 100%;border-bottom: 1px solid gray;flex-grow: 1;}#sk-container-id-1 div.sk-label:hover label.sk-toggleable__label {background-color: #d4ebff;}#sk-container-id-1 div.sk-serial::before {content: \"\";position: absolute;border-left: 1px solid gray;box-sizing: border-box;top: 0;bottom: 0;left: 50%;z-index: 0;}#sk-container-id-1 div.sk-serial {display: flex;flex-direction: column;align-items: center;background-color: white;padding-right: 0.2em;padding-left: 0.2em;position: relative;}#sk-container-id-1 div.sk-item {position: relative;z-index: 1;}#sk-container-id-1 div.sk-parallel {display: flex;align-items: stretch;justify-content: center;background-color: white;position: relative;}#sk-container-id-1 div.sk-item::before, #sk-container-id-1 div.sk-parallel-item::before {content: \"\";position: absolute;border-left: 1px solid gray;box-sizing: border-box;top: 0;bottom: 0;left: 50%;z-index: -1;}#sk-container-id-1 div.sk-parallel-item {display: flex;flex-direction: column;z-index: 1;position: relative;background-color: white;}#sk-container-id-1 div.sk-parallel-item:first-child::after {align-self: flex-end;width: 50%;}#sk-container-id-1 div.sk-parallel-item:last-child::after {align-self: flex-start;width: 50%;}#sk-container-id-1 div.sk-parallel-item:only-child::after {width: 0;}#sk-container-id-1 div.sk-dashed-wrapped {border: 1px dashed gray;margin: 0 0.4em 0.5em 0.4em;box-sizing: border-box;padding-bottom: 0.4em;background-color: white;}#sk-container-id-1 div.sk-label label {font-family: monospace;font-weight: bold;display: inline-block;line-height: 1.2em;}#sk-container-id-1 div.sk-label-container {text-align: center;}#sk-container-id-1 div.sk-container {/* jupyter's `normalize.less` sets `[hidden] { display: none; }` but bootstrap.min.css set `[hidden] { display: none !important; }` so we also need the `!important` here to be able to override the default hidden behavior on the sphinx rendered scikit-learn.org. See: https://github.com/scikit-learn/scikit-learn/issues/21755 */display: inline-block !important;position: relative;}#sk-container-id-1 div.sk-text-repr-fallback {display: none;}</style><div id=\"sk-container-id-1\" class=\"sk-top-container\"><div class=\"sk-text-repr-fallback\"><pre>StandardScaler()</pre><b>In a Jupyter environment, please rerun this cell to show the HTML representation or trust the notebook. <br />On GitHub, the HTML representation is unable to render, please try loading this page with nbviewer.org.</b></div><div class=\"sk-container\" hidden><div class=\"sk-item\"><div class=\"sk-estimator sk-toggleable\"><input class=\"sk-toggleable__control sk-hidden--visually\" id=\"sk-estimator-id-1\" type=\"checkbox\" checked><label for=\"sk-estimator-id-1\" class=\"sk-toggleable__label sk-toggleable__label-arrow\">StandardScaler</label><div class=\"sk-toggleable__content\"><pre>StandardScaler()</pre></div></div></div></div></div>"
            ]
          },
          "metadata": {},
          "execution_count": 25
        }
      ],
      "source": [
        "print(sc)\n",
        "sc.fit(x)"
      ]
    },
    {
      "cell_type": "code",
      "execution_count": 26,
      "metadata": {
        "id": "DtDm7aIlB26q",
        "colab": {
          "base_uri": "https://localhost:8080/"
        },
        "outputId": "5d9a3d68-0b80-4cc7-d4ff-273cd6a83354"
      },
      "outputs": [
        {
          "output_type": "stream",
          "name": "stdout",
          "text": [
            "[[ 0.38813058 -0.44540301  0.04008175  0.40044544  0.95719068  2.05024603]\n",
            " [-0.36675158  2.24515772 -1.14874288 -0.95077319 -0.07631043  2.05024603]\n",
            " [ 0.38813058  2.24515772 -0.55433057  0.40044544 -1.10981154 -0.48774634]\n",
            " ...\n",
            " [ 0.38813058 -0.44540301 -0.55433057  0.40044544 -0.07631043 -0.48774634]\n",
            " [ 0.38813058 -0.44540301 -1.14874288  0.40044544 -0.07631043 -0.48774634]\n",
            " [ 1.14301273 -0.44540301  1.82331869 -0.95077319  0.95719068 -0.48774634]]\n"
          ]
        }
      ],
      "source": [
        "sd=sc.transform(x)\n",
        "#x=sc.fit_transform()\n",
        "#x = pd.DataFrame(x)\n",
        "print(sd)"
      ]
    },
    {
      "cell_type": "code",
      "execution_count": 27,
      "metadata": {
        "id": "4F0QMNXz-2Hp"
      },
      "outputs": [],
      "source": [
        "x=sd\n",
        "y=df['PlacedOrNot']\n"
      ]
    },
    {
      "cell_type": "code",
      "execution_count": 28,
      "metadata": {
        "colab": {
          "base_uri": "https://localhost:8080/"
        },
        "id": "Gks-g00H0_IH",
        "outputId": "62287bd3-744b-4d77-e897-1ee6665e5b1f"
      },
      "outputs": [
        {
          "output_type": "execute_result",
          "data": {
            "text/plain": [
              "0       1\n",
              "1       1\n",
              "2       1\n",
              "3       1\n",
              "4       1\n",
              "       ..\n",
              "2961    0\n",
              "2962    0\n",
              "2963    0\n",
              "2964    0\n",
              "2965    1\n",
              "Name: PlacedOrNot, Length: 2966, dtype: int64"
            ]
          },
          "metadata": {},
          "execution_count": 28
        }
      ],
      "source": [
        "y"
      ]
    },
    {
      "cell_type": "code",
      "execution_count": 29,
      "metadata": {
        "id": "YHV9WofTd9FE"
      },
      "outputs": [],
      "source": [
        "x_train, x_test, y_train, y_test = train_test_split(x,y, test_size= 0.2, stratify=y, random_state=2)"
      ]
    },
    {
      "cell_type": "code",
      "execution_count": 30,
      "metadata": {
        "id": "dzgX4pR6D0l4",
        "colab": {
          "base_uri": "https://localhost:8080/"
        },
        "outputId": "83f647aa-9c52-4099-bcfc-02a8f73db6b3"
      },
      "outputs": [
        {
          "output_type": "stream",
          "name": "stdout",
          "text": [
            "(2966, 6) (2372, 6) (594, 6)\n"
          ]
        }
      ],
      "source": [
        "print(x.shape,x_train.shape,x_test.shape)"
      ]
    },
    {
      "cell_type": "code",
      "execution_count": 31,
      "metadata": {
        "colab": {
          "base_uri": "https://localhost:8080/"
        },
        "id": "3mS4wVGehD_g",
        "outputId": "448f34ad-8e9c-4a11-f4b7-055c9174a9b5"
      },
      "outputs": [
        {
          "output_type": "stream",
          "name": "stdout",
          "text": [
            "Accuracy score of the training data: 0.7685497470489039\n"
          ]
        }
      ],
      "source": [
        "classifier =svm.SVC(kernel='linear')\n",
        "classifier.fit(x_train,y_train)\n",
        "svm.SVC(kernel='linear')\n",
        "X_train_prediction=classifier.predict(x_train)\n",
        "training_data_accuracy=accuracy_score(X_train_prediction,y_train)\n",
        "\n",
        "print('Accuracy score of the training data:', training_data_accuracy)"
      ]
    },
    {
      "cell_type": "code",
      "source": [
        "x_train"
      ],
      "metadata": {
        "colab": {
          "base_uri": "https://localhost:8080/"
        },
        "id": "thgFWKwlbP8S",
        "outputId": "bb53b254-bf78-48c2-8dfc-c680fb4e5afb"
      },
      "execution_count": 32,
      "outputs": [
        {
          "output_type": "execute_result",
          "data": {
            "text/plain": [
              "array([[ 1.89789488, -0.44540301,  1.82331869,  0.40044544, -1.10981154,\n",
              "        -0.48774634],\n",
              "       [-1.12163373, -0.44540301, -0.55433057,  0.40044544, -0.07631043,\n",
              "        -0.48774634],\n",
              "       [-0.36675158, -0.44540301, -0.55433057,  0.40044544, -0.07631043,\n",
              "        -0.48774634],\n",
              "       ...,\n",
              "       [-1.12163373, -0.44540301, -1.14874288,  1.75166407, -0.07631043,\n",
              "        -0.48774634],\n",
              "       [ 0.38813058, -0.44540301, -0.55433057,  0.40044544,  1.99069179,\n",
              "        -0.48774634],\n",
              "       [ 1.89789488, -0.44540301, -1.14874288,  0.40044544, -1.10981154,\n",
              "         2.05024603]])"
            ]
          },
          "metadata": {},
          "execution_count": 32
        }
      ]
    },
    {
      "cell_type": "code",
      "execution_count": 33,
      "metadata": {
        "id": "6Ku-SNwkjhqj"
      },
      "outputs": [],
      "source": [
        "best_k={\"Regular\":0}\n",
        "best_score={\"Regular\":0}\n",
        "for k in range(3, 50, 2):\n",
        "  knn_temp=KNeighborsClassifier(n_neighbors=k)\n",
        "  knn_temp.fit(x_train, y_train)\n",
        "  knn_temp_pred=knn_temp.predict(x_test)\n",
        "  score=metrics.accuracy_score(y_test, knn_temp_pred)*100\n",
        "  if score >=best_score[\"Regular\"]and score<100:\n",
        "    best_score[\"Regular\"]=score\n",
        "    best_k[\"Regular\"] = k\n",
        "\n",
        "\n",
        "    "
      ]
    },
    {
      "cell_type": "code",
      "execution_count": 34,
      "metadata": {
        "colab": {
          "base_uri": "https://localhost:8080/"
        },
        "id": "qFhd2nR515qd",
        "outputId": "5e4e1276-391f-431c-9ca9-9975b45e9c09"
      },
      "outputs": [
        {
          "output_type": "stream",
          "name": "stdout",
          "text": [
            "---Results---\n",
            "K: {'Regular': 7}\n",
            " Score:{'Regular': 86.19528619528619}\n"
          ]
        }
      ],
      "source": [
        "print(\"---Results---\\nK: {}\\n Score:{}\".format(best_k, best_score))\n",
        "knn = KNeighborsClassifier(n_neighbors=best_k[\"Regular\"])\n",
        "knn.fit(x_train, y_train)\n",
        "knn_pred = knn.predict(x_test)\n",
        "testd = accuracy_score(knn_pred, y_test)"
      ]
    },
    {
      "cell_type": "code",
      "source": [
        "knn_pred"
      ],
      "metadata": {
        "colab": {
          "base_uri": "https://localhost:8080/"
        },
        "id": "zv8-7aPpcIuk",
        "outputId": "ad7c7828-d9be-4cbe-8f49-b49970fd5a72"
      },
      "execution_count": 35,
      "outputs": [
        {
          "output_type": "execute_result",
          "data": {
            "text/plain": [
              "array([1, 0, 1, 1, 0, 1, 1, 0, 1, 1, 0, 0, 1, 1, 1, 1, 1, 1, 0, 0, 1, 1,\n",
              "       1, 0, 0, 0, 1, 0, 1, 1, 1, 0, 1, 0, 1, 0, 0, 1, 0, 0, 0, 1, 0, 0,\n",
              "       1, 0, 1, 0, 1, 0, 1, 1, 0, 0, 0, 0, 0, 1, 1, 0, 1, 1, 1, 0, 0, 0,\n",
              "       1, 1, 1, 1, 0, 1, 1, 0, 1, 1, 1, 1, 0, 0, 0, 0, 0, 0, 0, 0, 0, 0,\n",
              "       1, 0, 1, 0, 1, 0, 1, 1, 0, 1, 0, 1, 0, 1, 1, 0, 1, 1, 0, 1, 0, 1,\n",
              "       0, 1, 1, 0, 0, 0, 0, 0, 0, 0, 1, 1, 1, 1, 1, 1, 1, 0, 1, 0, 0, 1,\n",
              "       1, 0, 1, 0, 0, 0, 0, 0, 0, 0, 1, 1, 1, 1, 1, 1, 0, 0, 1, 0, 0, 0,\n",
              "       1, 1, 0, 1, 0, 1, 1, 1, 1, 1, 1, 1, 0, 0, 1, 1, 1, 1, 0, 0, 1, 0,\n",
              "       1, 1, 0, 1, 1, 1, 0, 0, 1, 0, 1, 0, 0, 0, 1, 0, 1, 0, 1, 0, 1, 0,\n",
              "       0, 0, 0, 1, 0, 0, 0, 1, 1, 1, 1, 1, 1, 1, 1, 1, 1, 1, 1, 1, 0, 1,\n",
              "       0, 0, 1, 0, 0, 1, 1, 1, 0, 1, 1, 0, 0, 0, 1, 1, 1, 0, 1, 1, 0, 0,\n",
              "       1, 0, 1, 1, 0, 0, 1, 1, 0, 0, 0, 1, 0, 1, 1, 0, 0, 0, 1, 0, 1, 1,\n",
              "       1, 0, 0, 1, 0, 1, 0, 1, 1, 1, 0, 0, 1, 0, 0, 1, 0, 0, 0, 0, 0, 1,\n",
              "       1, 1, 0, 0, 1, 1, 0, 0, 0, 0, 0, 0, 0, 0, 0, 0, 0, 1, 0, 1, 0, 0,\n",
              "       0, 1, 1, 0, 0, 1, 0, 1, 1, 0, 0, 0, 1, 1, 0, 0, 0, 0, 1, 1, 1, 1,\n",
              "       0, 1, 0, 1, 1, 0, 1, 0, 1, 1, 0, 0, 0, 0, 1, 0, 0, 1, 1, 0, 1, 1,\n",
              "       1, 1, 0, 1, 1, 0, 0, 1, 1, 0, 1, 1, 0, 1, 1, 0, 0, 1, 0, 1, 0, 1,\n",
              "       0, 1, 1, 1, 1, 0, 0, 0, 1, 1, 0, 1, 1, 0, 1, 0, 0, 1, 1, 0, 1, 1,\n",
              "       0, 1, 0, 0, 1, 0, 1, 1, 0, 1, 0, 1, 1, 0, 0, 0, 0, 0, 0, 1, 1, 0,\n",
              "       0, 0, 1, 1, 0, 1, 0, 1, 0, 0, 0, 0, 1, 1, 0, 1, 0, 1, 0, 0, 0, 1,\n",
              "       0, 1, 0, 0, 0, 1, 0, 1, 0, 0, 1, 0, 0, 0, 0, 1, 1, 1, 1, 0, 0, 1,\n",
              "       1, 1, 0, 1, 0, 0, 0, 1, 1, 0, 0, 0, 0, 0, 1, 1, 0, 1, 0, 1, 0, 0,\n",
              "       1, 1, 0, 0, 1, 0, 1, 0, 1, 1, 0, 1, 0, 1, 0, 0, 1, 1, 0, 1, 0, 0,\n",
              "       1, 0, 1, 1, 0, 0, 0, 1, 0, 0, 1, 0, 0, 0, 1, 0, 0, 0, 0, 0, 0, 0,\n",
              "       1, 0, 1, 1, 1, 1, 0, 1, 1, 1, 1, 1, 0, 0, 1, 0, 0, 0, 0, 0, 0, 0,\n",
              "       0, 0, 1, 0, 0, 1, 0, 1, 0, 1, 0, 0, 1, 1, 0, 1, 1, 1, 1, 1, 0, 0,\n",
              "       1, 1, 1, 0, 1, 1, 0, 1, 0, 1, 1, 0, 0, 0, 1, 1, 1, 1, 0, 1, 0, 1])"
            ]
          },
          "metadata": {},
          "execution_count": 35
        }
      ]
    },
    {
      "cell_type": "code",
      "execution_count": 36,
      "metadata": {
        "id": "E7iHUeTLoV_e"
      },
      "outputs": [],
      "source": [
        "import tensorflow as tf\n",
        "from tensorflow import keras\n",
        "from keras.models import Sequential\n",
        "from tensorflow.keras import layers\n"
      ]
    },
    {
      "cell_type": "code",
      "execution_count": 37,
      "metadata": {
        "id": "ZsH1xfnGFFxR"
      },
      "outputs": [],
      "source": [
        "classifier = Sequential()\n",
        "\n",
        "#add input layer and first hidden layer\n",
        "classifier.add(keras.layers.Dense(6,activation = 'relu',input_dim = 6))\n",
        "classifier.add(keras.layers.Dropout(0.50))\n",
        "\n",
        "#add second hidden layer\n",
        "classifier.add(keras.layers.Dense(6,activation = 'relu'))\n",
        "classifier.add(keras.layers.Dropout(0.50))\n",
        "\n",
        "#final or output layer\n",
        "classifier.add(keras.layers.Dense(1,activation = 'sigmoid'))\n",
        "\n",
        "\n"
      ]
    },
    {
      "cell_type": "code",
      "execution_count": 38,
      "metadata": {
        "id": "_d0M3I61vOWY"
      },
      "outputs": [],
      "source": [
        "#compiling the moddel\n",
        "loss_1 = tf. keras.losses.BinaryCrossentropy()\n",
        "classifier.compile(optimizer='Adam',loss=loss_1,metrics=['accuracy'])"
      ]
    },
    {
      "cell_type": "code",
      "execution_count": 39,
      "metadata": {
        "id": "VMAzGUzlZTM7",
        "colab": {
          "base_uri": "https://localhost:8080/"
        },
        "outputId": "582113b7-ffa4-4f78-c00a-dff1162869c0"
      },
      "outputs": [
        {
          "output_type": "stream",
          "name": "stdout",
          "text": [
            "Epoch 1/100\n",
            "119/119 [==============================] - 1s 2ms/step - loss: 0.8240 - accuracy: 0.4279\n",
            "Epoch 2/100\n",
            "119/119 [==============================] - 0s 2ms/step - loss: 0.7298 - accuracy: 0.4823\n",
            "Epoch 3/100\n",
            "119/119 [==============================] - 0s 2ms/step - loss: 0.6869 - accuracy: 0.5177\n",
            "Epoch 4/100\n",
            "119/119 [==============================] - 0s 2ms/step - loss: 0.6620 - accuracy: 0.5843\n",
            "Epoch 5/100\n",
            "119/119 [==============================] - 0s 2ms/step - loss: 0.6401 - accuracy: 0.5987\n",
            "Epoch 6/100\n",
            "119/119 [==============================] - 0s 2ms/step - loss: 0.6278 - accuracy: 0.6151\n",
            "Epoch 7/100\n",
            "119/119 [==============================] - 0s 2ms/step - loss: 0.6163 - accuracy: 0.6121\n",
            "Epoch 8/100\n",
            "119/119 [==============================] - 0s 2ms/step - loss: 0.5966 - accuracy: 0.6336\n",
            "Epoch 9/100\n",
            "119/119 [==============================] - 0s 2ms/step - loss: 0.5894 - accuracy: 0.6269\n",
            "Epoch 10/100\n",
            "119/119 [==============================] - 0s 2ms/step - loss: 0.5717 - accuracy: 0.6391\n",
            "Epoch 11/100\n",
            "119/119 [==============================] - 0s 2ms/step - loss: 0.5795 - accuracy: 0.6248\n",
            "Epoch 12/100\n",
            "119/119 [==============================] - 0s 2ms/step - loss: 0.5594 - accuracy: 0.6695\n",
            "Epoch 13/100\n",
            "119/119 [==============================] - 0s 2ms/step - loss: 0.5493 - accuracy: 0.6720\n",
            "Epoch 14/100\n",
            "119/119 [==============================] - 0s 2ms/step - loss: 0.5338 - accuracy: 0.6910\n",
            "Epoch 15/100\n",
            "119/119 [==============================] - 0s 2ms/step - loss: 0.5318 - accuracy: 0.6855\n",
            "Epoch 16/100\n",
            "119/119 [==============================] - 0s 2ms/step - loss: 0.5274 - accuracy: 0.7116\n",
            "Epoch 17/100\n",
            "119/119 [==============================] - 0s 2ms/step - loss: 0.5026 - accuracy: 0.7230\n",
            "Epoch 18/100\n",
            "119/119 [==============================] - 0s 2ms/step - loss: 0.4886 - accuracy: 0.7239\n",
            "Epoch 19/100\n",
            "119/119 [==============================] - 0s 2ms/step - loss: 0.4957 - accuracy: 0.7230\n",
            "Epoch 20/100\n",
            "119/119 [==============================] - 0s 2ms/step - loss: 0.4881 - accuracy: 0.7319\n",
            "Epoch 21/100\n",
            "119/119 [==============================] - 0s 2ms/step - loss: 0.4829 - accuracy: 0.7239\n",
            "Epoch 22/100\n",
            "119/119 [==============================] - 0s 2ms/step - loss: 0.4857 - accuracy: 0.7255\n",
            "Epoch 23/100\n",
            "119/119 [==============================] - 0s 2ms/step - loss: 0.4743 - accuracy: 0.7365\n",
            "Epoch 24/100\n",
            "119/119 [==============================] - 0s 2ms/step - loss: 0.4785 - accuracy: 0.7399\n",
            "Epoch 25/100\n",
            "119/119 [==============================] - 0s 2ms/step - loss: 0.4696 - accuracy: 0.7382\n",
            "Epoch 26/100\n",
            "119/119 [==============================] - 0s 2ms/step - loss: 0.4729 - accuracy: 0.7374\n",
            "Epoch 27/100\n",
            "119/119 [==============================] - 0s 2ms/step - loss: 0.4884 - accuracy: 0.7213\n",
            "Epoch 28/100\n",
            "119/119 [==============================] - 0s 2ms/step - loss: 0.4797 - accuracy: 0.7255\n",
            "Epoch 29/100\n",
            "119/119 [==============================] - 0s 2ms/step - loss: 0.4787 - accuracy: 0.7277\n",
            "Epoch 30/100\n",
            "119/119 [==============================] - 0s 2ms/step - loss: 0.4655 - accuracy: 0.7483\n",
            "Epoch 31/100\n",
            "119/119 [==============================] - 0s 2ms/step - loss: 0.4668 - accuracy: 0.7395\n",
            "Epoch 32/100\n",
            "119/119 [==============================] - 0s 2ms/step - loss: 0.4689 - accuracy: 0.7403\n",
            "Epoch 33/100\n",
            "119/119 [==============================] - 0s 2ms/step - loss: 0.4691 - accuracy: 0.7382\n",
            "Epoch 34/100\n",
            "119/119 [==============================] - 0s 2ms/step - loss: 0.4656 - accuracy: 0.7344\n",
            "Epoch 35/100\n",
            "119/119 [==============================] - 0s 2ms/step - loss: 0.4686 - accuracy: 0.7411\n",
            "Epoch 36/100\n",
            "119/119 [==============================] - 0s 2ms/step - loss: 0.4618 - accuracy: 0.7542\n",
            "Epoch 37/100\n",
            "119/119 [==============================] - 0s 2ms/step - loss: 0.4679 - accuracy: 0.7416\n",
            "Epoch 38/100\n",
            "119/119 [==============================] - 0s 2ms/step - loss: 0.4616 - accuracy: 0.7462\n",
            "Epoch 39/100\n",
            "119/119 [==============================] - 0s 2ms/step - loss: 0.4606 - accuracy: 0.7449\n",
            "Epoch 40/100\n",
            "119/119 [==============================] - 0s 2ms/step - loss: 0.4562 - accuracy: 0.7504\n",
            "Epoch 41/100\n",
            "119/119 [==============================] - 0s 2ms/step - loss: 0.4586 - accuracy: 0.7466\n",
            "Epoch 42/100\n",
            "119/119 [==============================] - 0s 2ms/step - loss: 0.4474 - accuracy: 0.7601\n",
            "Epoch 43/100\n",
            "119/119 [==============================] - 0s 2ms/step - loss: 0.4459 - accuracy: 0.7589\n",
            "Epoch 44/100\n",
            "119/119 [==============================] - 0s 2ms/step - loss: 0.4464 - accuracy: 0.7605\n",
            "Epoch 45/100\n",
            "119/119 [==============================] - 0s 2ms/step - loss: 0.4464 - accuracy: 0.7584\n",
            "Epoch 46/100\n",
            "119/119 [==============================] - 0s 2ms/step - loss: 0.4426 - accuracy: 0.7601\n",
            "Epoch 47/100\n",
            "119/119 [==============================] - 0s 2ms/step - loss: 0.4458 - accuracy: 0.7601\n",
            "Epoch 48/100\n",
            "119/119 [==============================] - 0s 2ms/step - loss: 0.4522 - accuracy: 0.7572\n",
            "Epoch 49/100\n",
            "119/119 [==============================] - 0s 2ms/step - loss: 0.4456 - accuracy: 0.7567\n",
            "Epoch 50/100\n",
            "119/119 [==============================] - 0s 2ms/step - loss: 0.4393 - accuracy: 0.7614\n",
            "Epoch 51/100\n",
            "119/119 [==============================] - 0s 2ms/step - loss: 0.4409 - accuracy: 0.7677\n",
            "Epoch 52/100\n",
            "119/119 [==============================] - 0s 2ms/step - loss: 0.4382 - accuracy: 0.7643\n",
            "Epoch 53/100\n",
            "119/119 [==============================] - 0s 2ms/step - loss: 0.4286 - accuracy: 0.7698\n",
            "Epoch 54/100\n",
            "119/119 [==============================] - 0s 2ms/step - loss: 0.4478 - accuracy: 0.7551\n",
            "Epoch 55/100\n",
            "119/119 [==============================] - 0s 2ms/step - loss: 0.4377 - accuracy: 0.7660\n",
            "Epoch 56/100\n",
            "119/119 [==============================] - 0s 2ms/step - loss: 0.4424 - accuracy: 0.7605\n",
            "Epoch 57/100\n",
            "119/119 [==============================] - 0s 2ms/step - loss: 0.4345 - accuracy: 0.7639\n",
            "Epoch 58/100\n",
            "119/119 [==============================] - 0s 2ms/step - loss: 0.4323 - accuracy: 0.7690\n",
            "Epoch 59/100\n",
            "119/119 [==============================] - 0s 2ms/step - loss: 0.4275 - accuracy: 0.7732\n",
            "Epoch 60/100\n",
            "119/119 [==============================] - 0s 2ms/step - loss: 0.4298 - accuracy: 0.7652\n",
            "Epoch 61/100\n",
            "119/119 [==============================] - 0s 2ms/step - loss: 0.4365 - accuracy: 0.7648\n",
            "Epoch 62/100\n",
            "119/119 [==============================] - 0s 2ms/step - loss: 0.4295 - accuracy: 0.7681\n",
            "Epoch 63/100\n",
            "119/119 [==============================] - 0s 2ms/step - loss: 0.4268 - accuracy: 0.7664\n",
            "Epoch 64/100\n",
            "119/119 [==============================] - 0s 2ms/step - loss: 0.4360 - accuracy: 0.7723\n",
            "Epoch 65/100\n",
            "119/119 [==============================] - 0s 2ms/step - loss: 0.4342 - accuracy: 0.7664\n",
            "Epoch 66/100\n",
            "119/119 [==============================] - 0s 2ms/step - loss: 0.4317 - accuracy: 0.7673\n",
            "Epoch 67/100\n",
            "119/119 [==============================] - 0s 2ms/step - loss: 0.4361 - accuracy: 0.7740\n",
            "Epoch 68/100\n",
            "119/119 [==============================] - 0s 2ms/step - loss: 0.4322 - accuracy: 0.7593\n",
            "Epoch 69/100\n",
            "119/119 [==============================] - 0s 2ms/step - loss: 0.4287 - accuracy: 0.7719\n",
            "Epoch 70/100\n",
            "119/119 [==============================] - 0s 2ms/step - loss: 0.4261 - accuracy: 0.7732\n",
            "Epoch 71/100\n",
            "119/119 [==============================] - 0s 2ms/step - loss: 0.4267 - accuracy: 0.7719\n",
            "Epoch 72/100\n",
            "119/119 [==============================] - 0s 2ms/step - loss: 0.4220 - accuracy: 0.7766\n",
            "Epoch 73/100\n",
            "119/119 [==============================] - 0s 2ms/step - loss: 0.4258 - accuracy: 0.7753\n",
            "Epoch 74/100\n",
            "119/119 [==============================] - 0s 2ms/step - loss: 0.4249 - accuracy: 0.7816\n",
            "Epoch 75/100\n",
            "119/119 [==============================] - 0s 2ms/step - loss: 0.4266 - accuracy: 0.7740\n",
            "Epoch 76/100\n",
            "119/119 [==============================] - 0s 2ms/step - loss: 0.4224 - accuracy: 0.7791\n",
            "Epoch 77/100\n",
            "119/119 [==============================] - 0s 2ms/step - loss: 0.4261 - accuracy: 0.7778\n",
            "Epoch 78/100\n",
            "119/119 [==============================] - 0s 2ms/step - loss: 0.4222 - accuracy: 0.7791\n",
            "Epoch 79/100\n",
            "119/119 [==============================] - 0s 2ms/step - loss: 0.4173 - accuracy: 0.7812\n",
            "Epoch 80/100\n",
            "119/119 [==============================] - 0s 2ms/step - loss: 0.4243 - accuracy: 0.7732\n",
            "Epoch 81/100\n",
            "119/119 [==============================] - 0s 2ms/step - loss: 0.4204 - accuracy: 0.7804\n",
            "Epoch 82/100\n",
            "119/119 [==============================] - 0s 2ms/step - loss: 0.4180 - accuracy: 0.7820\n",
            "Epoch 83/100\n",
            "119/119 [==============================] - 0s 2ms/step - loss: 0.4271 - accuracy: 0.7681\n",
            "Epoch 84/100\n",
            "119/119 [==============================] - 0s 2ms/step - loss: 0.4249 - accuracy: 0.7812\n",
            "Epoch 85/100\n",
            "119/119 [==============================] - 0s 2ms/step - loss: 0.4340 - accuracy: 0.7559\n",
            "Epoch 86/100\n",
            "119/119 [==============================] - 0s 2ms/step - loss: 0.4220 - accuracy: 0.7770\n",
            "Epoch 87/100\n",
            "119/119 [==============================] - 0s 2ms/step - loss: 0.4201 - accuracy: 0.7825\n",
            "Epoch 88/100\n",
            "119/119 [==============================] - 0s 2ms/step - loss: 0.4293 - accuracy: 0.7732\n",
            "Epoch 89/100\n",
            "119/119 [==============================] - 0s 2ms/step - loss: 0.4155 - accuracy: 0.7833\n",
            "Epoch 90/100\n",
            "119/119 [==============================] - 0s 2ms/step - loss: 0.4225 - accuracy: 0.7740\n",
            "Epoch 91/100\n",
            "119/119 [==============================] - 0s 2ms/step - loss: 0.4177 - accuracy: 0.7837\n",
            "Epoch 92/100\n",
            "119/119 [==============================] - 0s 2ms/step - loss: 0.4236 - accuracy: 0.7757\n",
            "Epoch 93/100\n",
            "119/119 [==============================] - 0s 2ms/step - loss: 0.4187 - accuracy: 0.7795\n",
            "Epoch 94/100\n",
            "119/119 [==============================] - 0s 2ms/step - loss: 0.4177 - accuracy: 0.7795\n",
            "Epoch 95/100\n",
            "119/119 [==============================] - 0s 2ms/step - loss: 0.4221 - accuracy: 0.7766\n",
            "Epoch 96/100\n",
            "119/119 [==============================] - 0s 2ms/step - loss: 0.4223 - accuracy: 0.7745\n",
            "Epoch 97/100\n",
            "119/119 [==============================] - 0s 2ms/step - loss: 0.4242 - accuracy: 0.7707\n",
            "Epoch 98/100\n",
            "119/119 [==============================] - 0s 2ms/step - loss: 0.4234 - accuracy: 0.7753\n",
            "Epoch 99/100\n",
            "119/119 [==============================] - 0s 2ms/step - loss: 0.4159 - accuracy: 0.7799\n",
            "Epoch 100/100\n",
            "119/119 [==============================] - 0s 2ms/step - loss: 0.4277 - accuracy: 0.7723\n"
          ]
        },
        {
          "output_type": "execute_result",
          "data": {
            "text/plain": [
              "<keras.callbacks.History at 0x7f2a794eae20>"
            ]
          },
          "metadata": {},
          "execution_count": 39
        }
      ],
      "source": [
        "classifier.fit(x_train, y_train, batch_size = 20, epochs = 100)"
      ]
    },
    {
      "cell_type": "code",
      "execution_count": 40,
      "metadata": {
        "id": "CsJ742Gv0DJC",
        "colab": {
          "base_uri": "https://localhost:8080/"
        },
        "outputId": "464b98c2-b514-4f98-f417-6dbc1b932526"
      },
      "outputs": [
        {
          "output_type": "stream",
          "name": "stdout",
          "text": [
            "19/19 [==============================] - 0s 2ms/step\n"
          ]
        },
        {
          "output_type": "execute_result",
          "data": {
            "text/plain": [
              "array([[ True],\n",
              "       [False],\n",
              "       [False],\n",
              "       [ True],\n",
              "       [False],\n",
              "       [ True],\n",
              "       [ True],\n",
              "       [False],\n",
              "       [False],\n",
              "       [ True],\n",
              "       [False],\n",
              "       [False],\n",
              "       [ True],\n",
              "       [ True],\n",
              "       [ True],\n",
              "       [ True],\n",
              "       [ True],\n",
              "       [False],\n",
              "       [False],\n",
              "       [False],\n",
              "       [ True],\n",
              "       [ True],\n",
              "       [ True],\n",
              "       [False],\n",
              "       [False],\n",
              "       [False],\n",
              "       [ True],\n",
              "       [False],\n",
              "       [False],\n",
              "       [ True],\n",
              "       [ True],\n",
              "       [False],\n",
              "       [ True],\n",
              "       [False],\n",
              "       [False],\n",
              "       [False],\n",
              "       [False],\n",
              "       [False],\n",
              "       [False],\n",
              "       [False],\n",
              "       [False],\n",
              "       [ True],\n",
              "       [False],\n",
              "       [False],\n",
              "       [ True],\n",
              "       [False],\n",
              "       [False],\n",
              "       [False],\n",
              "       [ True],\n",
              "       [False],\n",
              "       [ True],\n",
              "       [False],\n",
              "       [False],\n",
              "       [False],\n",
              "       [False],\n",
              "       [False],\n",
              "       [False],\n",
              "       [ True],\n",
              "       [ True],\n",
              "       [False],\n",
              "       [False],\n",
              "       [ True],\n",
              "       [ True],\n",
              "       [False],\n",
              "       [False],\n",
              "       [False],\n",
              "       [ True],\n",
              "       [False],\n",
              "       [False],\n",
              "       [ True],\n",
              "       [False],\n",
              "       [ True],\n",
              "       [False],\n",
              "       [False],\n",
              "       [False],\n",
              "       [ True],\n",
              "       [ True],\n",
              "       [ True],\n",
              "       [False],\n",
              "       [False],\n",
              "       [False],\n",
              "       [False],\n",
              "       [False],\n",
              "       [False],\n",
              "       [False],\n",
              "       [False],\n",
              "       [False],\n",
              "       [False],\n",
              "       [ True],\n",
              "       [False],\n",
              "       [ True],\n",
              "       [False],\n",
              "       [ True],\n",
              "       [False],\n",
              "       [ True],\n",
              "       [False],\n",
              "       [False],\n",
              "       [False],\n",
              "       [False],\n",
              "       [False],\n",
              "       [False],\n",
              "       [ True],\n",
              "       [ True],\n",
              "       [False],\n",
              "       [ True],\n",
              "       [ True],\n",
              "       [False],\n",
              "       [ True],\n",
              "       [False],\n",
              "       [ True],\n",
              "       [False],\n",
              "       [ True],\n",
              "       [ True],\n",
              "       [False],\n",
              "       [False],\n",
              "       [False],\n",
              "       [False],\n",
              "       [False],\n",
              "       [False],\n",
              "       [False],\n",
              "       [ True],\n",
              "       [ True],\n",
              "       [ True],\n",
              "       [False],\n",
              "       [ True],\n",
              "       [ True],\n",
              "       [False],\n",
              "       [False],\n",
              "       [False],\n",
              "       [False],\n",
              "       [False],\n",
              "       [False],\n",
              "       [ True],\n",
              "       [False],\n",
              "       [ True],\n",
              "       [False],\n",
              "       [False],\n",
              "       [False],\n",
              "       [False],\n",
              "       [False],\n",
              "       [False],\n",
              "       [False],\n",
              "       [ True],\n",
              "       [ True],\n",
              "       [ True],\n",
              "       [ True],\n",
              "       [False],\n",
              "       [ True],\n",
              "       [False],\n",
              "       [False],\n",
              "       [ True],\n",
              "       [False],\n",
              "       [False],\n",
              "       [False],\n",
              "       [ True],\n",
              "       [ True],\n",
              "       [False],\n",
              "       [ True],\n",
              "       [False],\n",
              "       [ True],\n",
              "       [ True],\n",
              "       [False],\n",
              "       [ True],\n",
              "       [False],\n",
              "       [ True],\n",
              "       [ True],\n",
              "       [False],\n",
              "       [False],\n",
              "       [ True],\n",
              "       [ True],\n",
              "       [ True],\n",
              "       [ True],\n",
              "       [False],\n",
              "       [False],\n",
              "       [ True],\n",
              "       [False],\n",
              "       [ True],\n",
              "       [ True],\n",
              "       [False],\n",
              "       [False],\n",
              "       [ True],\n",
              "       [ True],\n",
              "       [False],\n",
              "       [False],\n",
              "       [False],\n",
              "       [False],\n",
              "       [ True],\n",
              "       [False],\n",
              "       [False],\n",
              "       [False],\n",
              "       [False],\n",
              "       [False],\n",
              "       [ True],\n",
              "       [False],\n",
              "       [ True],\n",
              "       [False],\n",
              "       [ True],\n",
              "       [False],\n",
              "       [False],\n",
              "       [False],\n",
              "       [False],\n",
              "       [ True],\n",
              "       [False],\n",
              "       [False],\n",
              "       [False],\n",
              "       [ True],\n",
              "       [False],\n",
              "       [ True],\n",
              "       [False],\n",
              "       [ True],\n",
              "       [ True],\n",
              "       [ True],\n",
              "       [False],\n",
              "       [ True],\n",
              "       [ True],\n",
              "       [ True],\n",
              "       [ True],\n",
              "       [ True],\n",
              "       [False],\n",
              "       [ True],\n",
              "       [False],\n",
              "       [False],\n",
              "       [ True],\n",
              "       [False],\n",
              "       [False],\n",
              "       [ True],\n",
              "       [ True],\n",
              "       [ True],\n",
              "       [False],\n",
              "       [ True],\n",
              "       [ True],\n",
              "       [False],\n",
              "       [False],\n",
              "       [False],\n",
              "       [ True],\n",
              "       [ True],\n",
              "       [ True],\n",
              "       [False],\n",
              "       [False],\n",
              "       [ True],\n",
              "       [False],\n",
              "       [False],\n",
              "       [ True],\n",
              "       [False],\n",
              "       [ True],\n",
              "       [False],\n",
              "       [False],\n",
              "       [False],\n",
              "       [ True],\n",
              "       [ True],\n",
              "       [False],\n",
              "       [False],\n",
              "       [False],\n",
              "       [ True],\n",
              "       [False],\n",
              "       [ True],\n",
              "       [ True],\n",
              "       [False],\n",
              "       [False],\n",
              "       [False],\n",
              "       [ True],\n",
              "       [False],\n",
              "       [False],\n",
              "       [False],\n",
              "       [ True],\n",
              "       [False],\n",
              "       [False],\n",
              "       [ True],\n",
              "       [False],\n",
              "       [ True],\n",
              "       [False],\n",
              "       [ True],\n",
              "       [ True],\n",
              "       [ True],\n",
              "       [False],\n",
              "       [False],\n",
              "       [ True],\n",
              "       [False],\n",
              "       [False],\n",
              "       [False],\n",
              "       [False],\n",
              "       [False],\n",
              "       [False],\n",
              "       [False],\n",
              "       [False],\n",
              "       [ True],\n",
              "       [ True],\n",
              "       [ True],\n",
              "       [False],\n",
              "       [False],\n",
              "       [ True],\n",
              "       [False],\n",
              "       [False],\n",
              "       [False],\n",
              "       [False],\n",
              "       [False],\n",
              "       [False],\n",
              "       [False],\n",
              "       [False],\n",
              "       [False],\n",
              "       [False],\n",
              "       [False],\n",
              "       [False],\n",
              "       [ True],\n",
              "       [False],\n",
              "       [ True],\n",
              "       [False],\n",
              "       [False],\n",
              "       [False],\n",
              "       [ True],\n",
              "       [ True],\n",
              "       [False],\n",
              "       [False],\n",
              "       [ True],\n",
              "       [False],\n",
              "       [ True],\n",
              "       [ True],\n",
              "       [False],\n",
              "       [False],\n",
              "       [False],\n",
              "       [ True],\n",
              "       [False],\n",
              "       [False],\n",
              "       [False],\n",
              "       [False],\n",
              "       [False],\n",
              "       [ True],\n",
              "       [ True],\n",
              "       [ True],\n",
              "       [ True],\n",
              "       [False],\n",
              "       [ True],\n",
              "       [False],\n",
              "       [ True],\n",
              "       [ True],\n",
              "       [False],\n",
              "       [ True],\n",
              "       [False],\n",
              "       [ True],\n",
              "       [False],\n",
              "       [False],\n",
              "       [False],\n",
              "       [False],\n",
              "       [False],\n",
              "       [False],\n",
              "       [False],\n",
              "       [False],\n",
              "       [ True],\n",
              "       [ True],\n",
              "       [False],\n",
              "       [ True],\n",
              "       [ True],\n",
              "       [ True],\n",
              "       [ True],\n",
              "       [False],\n",
              "       [False],\n",
              "       [ True],\n",
              "       [False],\n",
              "       [False],\n",
              "       [ True],\n",
              "       [ True],\n",
              "       [False],\n",
              "       [ True],\n",
              "       [ True],\n",
              "       [False],\n",
              "       [False],\n",
              "       [ True],\n",
              "       [False],\n",
              "       [False],\n",
              "       [ True],\n",
              "       [False],\n",
              "       [ True],\n",
              "       [False],\n",
              "       [ True],\n",
              "       [False],\n",
              "       [False],\n",
              "       [ True],\n",
              "       [False],\n",
              "       [ True],\n",
              "       [False],\n",
              "       [False],\n",
              "       [False],\n",
              "       [ True],\n",
              "       [ True],\n",
              "       [False],\n",
              "       [ True],\n",
              "       [False],\n",
              "       [False],\n",
              "       [ True],\n",
              "       [False],\n",
              "       [False],\n",
              "       [ True],\n",
              "       [ True],\n",
              "       [False],\n",
              "       [False],\n",
              "       [ True],\n",
              "       [False],\n",
              "       [ True],\n",
              "       [False],\n",
              "       [False],\n",
              "       [ True],\n",
              "       [False],\n",
              "       [ True],\n",
              "       [ True],\n",
              "       [False],\n",
              "       [ True],\n",
              "       [False],\n",
              "       [ True],\n",
              "       [ True],\n",
              "       [False],\n",
              "       [False],\n",
              "       [False],\n",
              "       [False],\n",
              "       [False],\n",
              "       [False],\n",
              "       [ True],\n",
              "       [False],\n",
              "       [False],\n",
              "       [False],\n",
              "       [False],\n",
              "       [ True],\n",
              "       [ True],\n",
              "       [False],\n",
              "       [ True],\n",
              "       [False],\n",
              "       [False],\n",
              "       [False],\n",
              "       [False],\n",
              "       [False],\n",
              "       [False],\n",
              "       [False],\n",
              "       [False],\n",
              "       [False],\n",
              "       [ True],\n",
              "       [False],\n",
              "       [ True],\n",
              "       [False],\n",
              "       [False],\n",
              "       [False],\n",
              "       [ True],\n",
              "       [False],\n",
              "       [ True],\n",
              "       [False],\n",
              "       [False],\n",
              "       [False],\n",
              "       [ True],\n",
              "       [False],\n",
              "       [False],\n",
              "       [False],\n",
              "       [False],\n",
              "       [ True],\n",
              "       [False],\n",
              "       [False],\n",
              "       [False],\n",
              "       [False],\n",
              "       [ True],\n",
              "       [False],\n",
              "       [False],\n",
              "       [ True],\n",
              "       [False],\n",
              "       [False],\n",
              "       [False],\n",
              "       [False],\n",
              "       [ True],\n",
              "       [False],\n",
              "       [ True],\n",
              "       [False],\n",
              "       [False],\n",
              "       [False],\n",
              "       [ True],\n",
              "       [ True],\n",
              "       [False],\n",
              "       [False],\n",
              "       [False],\n",
              "       [False],\n",
              "       [False],\n",
              "       [ True],\n",
              "       [ True],\n",
              "       [False],\n",
              "       [ True],\n",
              "       [False],\n",
              "       [ True],\n",
              "       [False],\n",
              "       [False],\n",
              "       [ True],\n",
              "       [False],\n",
              "       [False],\n",
              "       [False],\n",
              "       [ True],\n",
              "       [False],\n",
              "       [ True],\n",
              "       [False],\n",
              "       [ True],\n",
              "       [ True],\n",
              "       [False],\n",
              "       [ True],\n",
              "       [False],\n",
              "       [ True],\n",
              "       [False],\n",
              "       [False],\n",
              "       [False],\n",
              "       [ True],\n",
              "       [False],\n",
              "       [ True],\n",
              "       [False],\n",
              "       [False],\n",
              "       [False],\n",
              "       [False],\n",
              "       [ True],\n",
              "       [ True],\n",
              "       [False],\n",
              "       [False],\n",
              "       [False],\n",
              "       [False],\n",
              "       [False],\n",
              "       [False],\n",
              "       [ True],\n",
              "       [False],\n",
              "       [False],\n",
              "       [False],\n",
              "       [ True],\n",
              "       [False],\n",
              "       [False],\n",
              "       [False],\n",
              "       [False],\n",
              "       [False],\n",
              "       [False],\n",
              "       [False],\n",
              "       [ True],\n",
              "       [False],\n",
              "       [ True],\n",
              "       [ True],\n",
              "       [False],\n",
              "       [ True],\n",
              "       [False],\n",
              "       [ True],\n",
              "       [ True],\n",
              "       [ True],\n",
              "       [False],\n",
              "       [ True],\n",
              "       [False],\n",
              "       [False],\n",
              "       [ True],\n",
              "       [False],\n",
              "       [False],\n",
              "       [False],\n",
              "       [False],\n",
              "       [False],\n",
              "       [False],\n",
              "       [False],\n",
              "       [False],\n",
              "       [False],\n",
              "       [ True],\n",
              "       [False],\n",
              "       [False],\n",
              "       [False],\n",
              "       [False],\n",
              "       [ True],\n",
              "       [False],\n",
              "       [ True],\n",
              "       [False],\n",
              "       [False],\n",
              "       [False],\n",
              "       [False],\n",
              "       [False],\n",
              "       [ True],\n",
              "       [ True],\n",
              "       [False],\n",
              "       [ True],\n",
              "       [ True],\n",
              "       [False],\n",
              "       [False],\n",
              "       [ True],\n",
              "       [False],\n",
              "       [ True],\n",
              "       [False],\n",
              "       [False],\n",
              "       [ True],\n",
              "       [False],\n",
              "       [ True],\n",
              "       [False],\n",
              "       [ True],\n",
              "       [ True],\n",
              "       [False],\n",
              "       [False],\n",
              "       [False],\n",
              "       [ True],\n",
              "       [ True],\n",
              "       [ True],\n",
              "       [ True],\n",
              "       [False],\n",
              "       [ True],\n",
              "       [False],\n",
              "       [ True]])"
            ]
          },
          "metadata": {},
          "execution_count": 40
        }
      ],
      "source": [
        "pred=classifier.predict(x_test)\n",
        "pred= (pred>0.5)\n",
        "pred"
      ]
    },
    {
      "cell_type": "code",
      "source": [
        "from sklearn.metrics import confusion_matrix\n",
        "cm=confusion_matrix(y_test, pred)\n",
        "cm"
      ],
      "metadata": {
        "colab": {
          "base_uri": "https://localhost:8080/"
        },
        "id": "stYya6T9hCdk",
        "outputId": "13492a2f-c6c9-419a-b8ab-60ecef138cb8"
      },
      "execution_count": 41,
      "outputs": [
        {
          "output_type": "execute_result",
          "data": {
            "text/plain": [
              "array([[265,   1],\n",
              "       [102, 226]])"
            ]
          },
          "metadata": {},
          "execution_count": 41
        }
      ]
    },
    {
      "cell_type": "code",
      "execution_count": 42,
      "metadata": {
        "id": "HdVUNsHjwAWw"
      },
      "outputs": [],
      "source": [
        "import pickle\n",
        "pickle.dump(knn,open(\"placement.pkl\",'wb'))\n",
        "model = pickle.load(open('placement.pkl','rb'))"
      ]
    },
    {
      "cell_type": "code",
      "source": [
        "input_data=[[22,0,2,1,8,1]]\n",
        "prediction=knn.predict(input_data)\n",
        "print(prediction)\n",
        "if(prediction[0]==0):\n",
        "  print('Not placed')\n",
        "else:\n",
        "  print('placed')"
      ],
      "metadata": {
        "colab": {
          "base_uri": "https://localhost:8080/"
        },
        "id": "FvyJ5p4Bhfqg",
        "outputId": "933dff8c-95cf-47d8-d0f8-1978dd88817e"
      },
      "execution_count": 43,
      "outputs": [
        {
          "output_type": "stream",
          "name": "stdout",
          "text": [
            "[1]\n",
            "placed\n"
          ]
        }
      ]
    },
    {
      "cell_type": "code",
      "source": [],
      "metadata": {
        "id": "q1cWSGA8e5_F"
      },
      "execution_count": 43,
      "outputs": []
    },
    {
      "cell_type": "code",
      "source": [
        "input_data=[[23,0,1,0,7,0]]\n",
        "prediction=knn.predict(input_data)\n",
        "print(prediction)\n",
        "if(prediction[0]==0):\n",
        "  print('Not placed')\n",
        "else:\n",
        "  print('placed')"
      ],
      "metadata": {
        "colab": {
          "base_uri": "https://localhost:8080/"
        },
        "outputId": "5274e4ca-9df0-4ea4-a574-35562c8cb246",
        "id": "Ydui3kkXe7pE"
      },
      "execution_count": 44,
      "outputs": [
        {
          "output_type": "stream",
          "name": "stdout",
          "text": [
            "[1]\n",
            "placed\n"
          ]
        }
      ]
    },
    {
      "cell_type": "code",
      "source": [],
      "metadata": {
        "id": "Ei7WYn1Re4ne"
      },
      "execution_count": 44,
      "outputs": []
    }
  ],
  "metadata": {
    "colab": {
      "provenance": []
    },
    "kernelspec": {
      "display_name": "Python 3",
      "name": "python3"
    },
    "language_info": {
      "name": "python"
    }
  },
  "nbformat": 4,
  "nbformat_minor": 0
}